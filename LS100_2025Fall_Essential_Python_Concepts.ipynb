{
 "cells": [
  {
   "cell_type": "markdown",
   "id": "ebd2a4a4",
   "metadata": {},
   "source": [
    "# Essential Python Terminologies and Concepts\n",
    "\n",
    "Welcome! This notebook introduces core Python ideas using short explanations, examples, and hands‑on mini‑tasks.\n",
    "Work through each section in order. Run every code cell after you read the Markdown cell above it.\n",
    "\n",
    "> Tip: Run a cell with **Shift+Enter**. Create a new cell with the **+** button on the toolbar.\n"
   ]
  },
  {
   "cell_type": "markdown",
   "id": "0ec9d073",
   "metadata": {},
   "source": [
    "## Interpreter\n",
    "The program that executes your Python code. Python is *interpreted*: code runs line‑by‑line."
   ]
  },
  {
   "cell_type": "code",
   "execution_count": 11,
   "id": "a9f1d52b",
   "metadata": {},
   "outputs": [
    {
     "name": "stdout",
     "output_type": "stream",
     "text": [
      "Python Version:\n",
      "3.13.7 | packaged by Anaconda, Inc. | (main, Sep  9 2025, 19:54:17) [Clang 17.0.6 ]\n",
      "\n",
      "Python executable path:\n",
      "/Users/souvikmandal/anaconda3/envs/notebook-/bin/python\n"
     ]
    }
   ],
   "source": [
    "import sys\n",
    "# The \"sys\" module gives access to system-specific parameters and functions.\n",
    "# It is part of Python's *standard library* (built-in tools that come with Python)\n",
    "\n",
    "print(\"Python Version:\") \n",
    "print(sys.version) # Check the version of Python. For our work, you would want a version 3.XY.Z.\n",
    "\n",
    "print(\"\\nPython executable path:\") # using the \"\\n\" adds a blank line, and then we add the label for clarity\n",
    "print(sys.executable)\n",
    "# sys.executable gives the full path to the Python program (interpreter) that is being used.\n",
    "# This tells you *where* Python is installed on your computer.\n"
   ]
  },
  {
   "cell_type": "markdown",
   "id": "601d9df8",
   "metadata": {},
   "source": [
    "### Program & Script\n",
    "- A **program** is a sequence of instructions that the computer follows step by step.  \n",
    "- Python executes code **from top to bottom**. If you want to use a variable later, you must define it first.  \n",
    "- You can run Python code **interactively** (one line or block at a time) or save it into a file (with a `.py` extension) called a **script**, which can be run all at once.  \n",
    "\n",
    "### Variables in Python\n",
    "- A **variable** is a name that stores a value (like a label on a box).  \n",
    "- You can assign a value to a variable using `=` (for example: `age = 21`).  \n",
    "- Variable names must follow these rules:  \n",
    "  - Can contain **letters, numbers, and underscores** (`_`).  \n",
    "  - **Must start with a letter or underscore**, not a number.  \n",
    "  - Are **case-sensitive** (`Name`, `name`, and `NAME` are three different variables).  \n",
    "  - Should not use Python **keywords** (like `if`, `for`, `class`).  \n",
    "- It’s a good habit to choose **clear and descriptive names** (e.g., `height_cm` instead of just `h`).\n",
    "\n",
    "### Comments\n",
    "Anything after `#` on a line is ignored by Python. Use it to explain intent."
   ]
  },
  {
   "cell_type": "code",
   "execution_count": null,
   "id": "d59a04e8",
   "metadata": {},
   "outputs": [],
   "source": [
    "# Task: Write a multi-line string describing what your project will do.\n",
    "LS100_plan = \"\"\"My project will...\"\"\"\n",
    "print(LS100_plan)"
   ]
  },
  {
   "cell_type": "markdown",
   "id": "02b7614e",
   "metadata": {},
   "source": [
    "## Syntax & Indentation\n",
    "Python uses indentation to define code blocks. Consistent spaces are required."
   ]
  },
  {
   "cell_type": "code",
   "execution_count": 15,
   "id": "a9585e39",
   "metadata": {},
   "outputs": [
    {
     "name": "stdout",
     "output_type": "stream",
     "text": [
      "x is greater than y\n"
     ]
    }
   ],
   "source": [
    "x = 5\n",
    "y = 3\n",
    "if x > y:\n",
    "    print(\"x is greater than y\")"
   ]
  },
  {
   "cell_type": "code",
   "execution_count": 17,
   "id": "48df612c",
   "metadata": {},
   "outputs": [
    {
     "ename": "IndentationError",
     "evalue": "expected an indented block after 'if' statement on line 3 (1536882704.py, line 4)",
     "output_type": "error",
     "traceback": [
      "  \u001b[36mCell\u001b[39m\u001b[36m \u001b[39m\u001b[32mIn[17]\u001b[39m\u001b[32m, line 4\u001b[39m\n\u001b[31m    \u001b[39m\u001b[31mprint(\"even!\")\u001b[39m\n    ^\n\u001b[31mIndentationError\u001b[39m\u001b[31m:\u001b[39m expected an indented block after 'if' statement on line 3\n"
     ]
    }
   ],
   "source": [
    "# Task: Fix the indentation so it prints only when x is even.\n",
    "x = 8\n",
    "if x % 2 == 0:\n",
    "print(\"even!\")"
   ]
  },
  {
   "cell_type": "markdown",
   "id": "721a2a7e",
   "metadata": {},
   "source": [
    "## Variables\n",
    "Names that refer to values stored in memory."
   ]
  },
  {
   "cell_type": "code",
   "execution_count": 23,
   "id": "aefd9fcc",
   "metadata": {},
   "outputs": [
    {
     "name": "stdout",
     "output_type": "stream",
     "text": [
      "Student Count: 7 \n",
      "Course Instructor: Alain\n"
     ]
    }
   ],
   "source": [
    "student_count = 7\n",
    "name = \"Alain\"\n",
    "print(\"Student Count:\", student_count, \"\\nCourse Instructor:\", name)"
   ]
  },
  {
   "cell_type": "code",
   "execution_count": null,
   "id": "f4cdda68",
   "metadata": {},
   "outputs": [],
   "source": [
    "# Task: Create two variables (your_name and course) and print a sentence using them."
   ]
  },
  {
   "cell_type": "markdown",
   "id": "1fd53c3b",
   "metadata": {},
   "source": [
    "## Data Types\n",
    "Common types: int, float, str, bool, NoneType."
   ]
  },
  {
   "cell_type": "code",
   "execution_count": 24,
   "id": "934580f8",
   "metadata": {},
   "outputs": [
    {
     "name": "stdout",
     "output_type": "stream",
     "text": [
      "7 <class 'int'>\n",
      "2.5 <class 'float'>\n",
      "hi <class 'str'>\n",
      "True <class 'bool'>\n",
      "None <class 'NoneType'>\n"
     ]
    }
   ],
   "source": [
    "a = 7\n",
    "b = 2.5\n",
    "c = \"hi\"\n",
    "d = True\n",
    "e = None\n",
    "for v in (a,b,c,d,e):\n",
    "    print(v, type(v))"
   ]
  },
  {
   "cell_type": "code",
   "execution_count": null,
   "id": "bc078863",
   "metadata": {},
   "outputs": [],
   "source": [
    "# Task: Convert the string \"123\" to an int and add 7 to it."
   ]
  },
  {
   "cell_type": "code",
   "execution_count": 26,
   "id": "99b02c25-7edd-43bd-9ce5-000efd6cd9e2",
   "metadata": {},
   "outputs": [
    {
     "name": "stdout",
     "output_type": "stream",
     "text": [
      "123\n"
     ]
    },
    {
     "data": {
      "text/plain": [
       "str"
      ]
     },
     "execution_count": 26,
     "metadata": {},
     "output_type": "execute_result"
    }
   ],
   "source": [
    "string = \"123\"\n",
    "print(string)\n",
    "type(string)"
   ]
  },
  {
   "cell_type": "markdown",
   "id": "067d2b99-6664-4cdc-8819-3ccbbac184b2",
   "metadata": {},
   "source": [
    "<details>\n",
    "<summary>💡 Hint</summary>\n",
    "\n",
    "# Method A: Use a loop\n",
    "- define a variable total = 0. This variable will store the sum of the extracted integers.\n",
    "- Extract the elements of the string using a `for` loop.\n",
    "- for val in string:          # val will be \"1\", then \"2\", then \"3\"\n",
    "- total += int(val)       # convert each character to int before adding and then add them using the += operator.\n",
    "- print(\"Sum using loop:\", total)\n",
    "\n",
    "# Method B: Use list comprehension + sum()\n",
    "- digits = [int(ch) for ch in string]   # convert each character to an int and make a list because we put the code inside square brackets\n",
    "- print(\"Digits as list:\", digits)\n",
    "- print(\"Sum of values in the list digit:\", sum(digits)) # the function `sum` adds all the values in the list `digits`.\n",
    "\n",
    "\n",
    "### Method A: Use a loop\n",
    "\n",
    "* Define a variable `total = 0`. This variable will store the total (the sum) in increments of the `for` loop.\n",
    "* Use a `for` loop to go through each character of the string.\n",
    "* Example: `for val in string:` → here, `val` will be `\"1\"`, then `\"2\"`, then `\"3\"`, but they are still strings.\n",
    "* Convert each character into an integer with `int(val)`.\n",
    "* Add each integer to `total` using the += operator:\n",
    "    * total += int(val) is shorthand for total = total + int(val). We defined `total` as 0 first.\n",
    "    * It takes the current value of total, adds the new number, and then stores the result back into total.\n",
    "* Finally, print the result: `print(\"Sum using loop:\", total)`.\n",
    "---\n",
    "\n",
    "### Method B: Use list comprehension + sum()\n",
    "\n",
    "* A **list comprehension** lets you build a list in one line.\n",
    "* Example: `digits = [int(ch) for ch in string]` converts each character `ch` in the string into an integer and collects them into a list.\n",
    "* Now `digits` will look like `[1, 2, 3]`.\n",
    "* `print(\"Digits as list:\", digits)` will show the list.\n",
    "* The built-in function `sum()` adds all numbers in a list.\n",
    "* Example: `print(\"Sum of values in the list digits:\", sum(digits))` shows the total.\n",
    "\n",
    "</details>\n"
   ]
  },
  {
   "cell_type": "markdown",
   "id": "918eebc7-9b38-4122-bb1a-acd7debb6d98",
   "metadata": {},
   "source": [
    "<details>\n",
    "<summary>✅ Show Solution</summary>\n",
    "\n",
    "```python\n",
    "# Method A: Use a loop\n",
    "total = 0\n",
    "for val in string:          # val will be \"1\", then \"2\", then \"3\"\n",
    "    total += int(val)       # convert each character to int before adding\n",
    "print(\"Sum using loop:\", total)\n",
    "\n",
    "# Method B: Use list comprehension + sum()\n",
    "digits = [int(val) for val in string]   # convert each character to an int and make a list because we used square brackets\n",
    "print(\"Digits as list:\", digits)\n",
    "print(\"Sum of values in the list digits:\", sum(digits))  # the function `sum` adds all the values in the list `digits`.\n"
   ]
  },
  {
   "cell_type": "markdown",
   "id": "f0c28a9a",
   "metadata": {},
   "source": [
    "## Operators\n",
    "Arithmetic (+ - * / // % **), comparison (== != > < >= <=), logical (and or not), membership (in, not in), identity (is, is not)."
   ]
  },
  {
   "cell_type": "code",
   "execution_count": 38,
   "id": "84caaef4",
   "metadata": {},
   "outputs": [
    {
     "name": "stdout",
     "output_type": "stream",
     "text": [
      "11 7 18 81 4.5 4\n",
      "True True\n",
      "True\n"
     ]
    }
   ],
   "source": [
    "x, y = 9, 2\n",
    "print(x + y, x-y, x*y, x ** y, x/y, x // y)\n",
    "print(x > y, (x > 0) and (y > 0))\n",
    "print(\"py\" in \"python\")"
   ]
  },
  {
   "cell_type": "markdown",
   "id": "1732ecc4-6ca4-4839-bafd-c26a5c286b6c",
   "metadata": {},
   "source": [
    "### Task: Use operators to test whether a number n is between 10 and 20 inclusive."
   ]
  },
  {
   "cell_type": "markdown",
   "id": "b0c7ada3-72ee-40a5-9230-a577c2ed308b",
   "metadata": {},
   "source": [
    "<details>\n",
    "<summary>💡 Hint</summary>\n",
    "\n",
    "- You need to check if a number `n` is **greater than or equal to 10** **and** **less than or equal to 20**.  \n",
    "- In Python, you can use **comparison operators**:\n",
    "  - `>=` means \"greater than or equal to\".  \n",
    "  - `<=` means \"less than or equal to\".  \n",
    "- You can combine conditions with the logical operator **`and`**.  \n",
    "- Example pattern:  \n",
    "  ```python\n",
    "  if n >= 10 and n <= 20:\n",
    "      print(\"n is between 10 and 20 inclusive\")\n",
    "  else:\n",
    "      print(\"n is outside the range\")\n",
    "\n",
    " ######\n",
    "- Python also supports chained comparisons:\n",
    "  ```python\n",
    "  if 10 <= n <= 20:\n",
    "    print(\"n is between 10 and 20 inclusive\")\n"
   ]
  },
  {
   "cell_type": "markdown",
   "id": "cb8532a5",
   "metadata": {},
   "source": [
    "## Expressions\n",
    "Combinations of values, variables, and operators that Python evaluates to a result."
   ]
  },
  {
   "cell_type": "code",
   "execution_count": 39,
   "id": "f2ce5a59",
   "metadata": {},
   "outputs": [
    {
     "name": "stdout",
     "output_type": "stream",
     "text": [
      "16\n"
     ]
    }
   ],
   "source": [
    "result = (3 + 5) * 2\n",
    "print(result)"
   ]
  },
  {
   "cell_type": "code",
   "execution_count": null,
   "id": "cf549c7f",
   "metadata": {},
   "outputs": [],
   "source": [
    "# Task: Build an expression that computes the area of a circle with radius r=3 (use 3.14159)."
   ]
  },
  {
   "cell_type": "markdown",
   "id": "46e82a0f",
   "metadata": {},
   "source": [
    "## Printing with print()\n",
    "Displays output to the screen. Accepts multiple arguments."
   ]
  },
  {
   "cell_type": "code",
   "execution_count": null,
   "id": "512cc1f2",
   "metadata": {},
   "outputs": [],
   "source": [
    "print(\"Hello\", \"Python\", 3)"
   ]
  },
  {
   "cell_type": "code",
   "execution_count": null,
   "id": "b9682329",
   "metadata": {},
   "outputs": [],
   "source": [
    "# Task: Print your name on one line and your favorite hobby on the next line using two print() calls."
   ]
  },
  {
   "cell_type": "markdown",
   "id": "b44bcd4f",
   "metadata": {},
   "source": [
    "## input()\n",
    "Reads text from the user (returns a string)."
   ]
  },
  {
   "cell_type": "code",
   "execution_count": null,
   "id": "1c934d15",
   "metadata": {},
   "outputs": [],
   "source": [
    "# Uncomment to try interactively in a local notebook:\n",
    "# name = input(\"Enter your name: \")\n",
    "# print(\"Hi\", name)"
   ]
  },
  {
   "cell_type": "code",
   "execution_count": null,
   "id": "200beb93",
   "metadata": {},
   "outputs": [],
   "source": [
    "# Task: Simulate input by setting a variable, then print a greeting.\n",
    "name = \"Student\"\n",
    "print(f\"Hello, {name}!\")"
   ]
  },
  {
   "cell_type": "markdown",
   "id": "291c037d",
   "metadata": {},
   "source": [
    "## Conditionals (if/elif/else)\n",
    "Execute code depending on a boolean condition."
   ]
  },
  {
   "cell_type": "code",
   "execution_count": null,
   "id": "e3eaf446",
   "metadata": {},
   "outputs": [],
   "source": [
    "n = 5\n",
    "if n % 2 == 0:\n",
    "    print(\"even\")\n",
    "else:\n",
    "    print(\"odd\")"
   ]
  },
  {
   "cell_type": "code",
   "execution_count": null,
   "id": "e7880b1d",
   "metadata": {},
   "outputs": [],
   "source": [
    "# Task: Given score, print A if >=90, B if 80-89, else C.\n",
    "score = 87\n",
    "# your code here"
   ]
  },
  {
   "cell_type": "markdown",
   "id": "9e2346d4",
   "metadata": {},
   "source": [
    "## Loops: for\n",
    "Iterate over items of a sequence."
   ]
  },
  {
   "cell_type": "code",
   "execution_count": null,
   "id": "8a0228c1",
   "metadata": {},
   "outputs": [],
   "source": [
    "for ch in \"abc\":\n",
    "    print(ch)"
   ]
  },
  {
   "cell_type": "code",
   "execution_count": null,
   "id": "ea4c735d",
   "metadata": {},
   "outputs": [],
   "source": [
    "# Task: Given a list of numbers, print each squared.\n",
    "nums = [2,3,5]"
   ]
  },
  {
   "cell_type": "markdown",
   "id": "01773dc0",
   "metadata": {},
   "source": [
    "## Loops: while\n",
    "Repeat while a condition is True."
   ]
  },
  {
   "cell_type": "code",
   "execution_count": null,
   "id": "e8f979e0",
   "metadata": {},
   "outputs": [],
   "source": [
    "k = 3\n",
    "while k > 0:\n",
    "    print(\"tick\", k)\n",
    "    k -= 1"
   ]
  },
  {
   "cell_type": "code",
   "execution_count": null,
   "id": "c6bf575c",
   "metadata": {},
   "outputs": [],
   "source": [
    "# Task: Use a while loop to sum numbers 1..100."
   ]
  },
  {
   "cell_type": "markdown",
   "id": "ef55d9e5",
   "metadata": {},
   "source": [
    "## Functions (def, return)\n",
    "Reusable blocks of code. Use parameters and return values."
   ]
  },
  {
   "cell_type": "code",
   "execution_count": null,
   "id": "d54b59ae",
   "metadata": {},
   "outputs": [],
   "source": [
    "def square(x):\n",
    "    return x*x\n",
    "print(square(5))"
   ]
  },
  {
   "cell_type": "code",
   "execution_count": null,
   "id": "f4255f8d",
   "metadata": {},
   "outputs": [],
   "source": [
    "# Task: Define a function `fahrenheit(c)` that converts C→F and test it."
   ]
  },
  {
   "cell_type": "markdown",
   "id": "8caccd27",
   "metadata": {},
   "source": [
    "## Errors & Exceptions\n",
    "When code breaks, Python raises exceptions; handle with try/except."
   ]
  },
  {
   "cell_type": "code",
   "execution_count": null,
   "id": "07332588",
   "metadata": {},
   "outputs": [],
   "source": [
    "try:\n",
    "    x = int(\"not-a-number\")\n",
    "except ValueError as e:\n",
    "    print(\"Caught:\", e)"
   ]
  },
  {
   "cell_type": "code",
   "execution_count": null,
   "id": "f0f12bf4",
   "metadata": {},
   "outputs": [],
   "source": [
    "# Task: Write try/except that divides 10 by a user-provided number; catch ZeroDivisionError."
   ]
  },
  {
   "cell_type": "markdown",
   "id": "07eebf2f",
   "metadata": {},
   "source": [
    "## Lists\n",
    "Ordered, mutable collections."
   ]
  },
  {
   "cell_type": "code",
   "execution_count": null,
   "id": "9a99ca76",
   "metadata": {},
   "outputs": [],
   "source": [
    "fruits = [\"apple\",\"banana\"]\n",
    "fruits.append(\"cherry\")\n",
    "print(fruits, fruits[0])"
   ]
  },
  {
   "cell_type": "code",
   "execution_count": null,
   "id": "faacf85c",
   "metadata": {},
   "outputs": [],
   "source": [
    "# Task: Remove the first item from a list and print the result."
   ]
  },
  {
   "cell_type": "markdown",
   "id": "83512a8d",
   "metadata": {},
   "source": [
    "## Tuples\n",
    "Ordered, immutable sequences."
   ]
  },
  {
   "cell_type": "code",
   "execution_count": null,
   "id": "03b8dc90",
   "metadata": {},
   "outputs": [],
   "source": [
    "pt = (10, 20)\n",
    "print(pt[0], pt[1])"
   ]
  },
  {
   "cell_type": "code",
   "execution_count": null,
   "id": "42880bc5",
   "metadata": {},
   "outputs": [],
   "source": [
    "# Task: Create a 3‑tuple (year, month, day) and print it."
   ]
  },
  {
   "cell_type": "markdown",
   "id": "5de136f5",
   "metadata": {},
   "source": [
    "## Sets\n",
    "Unordered collections of unique elements."
   ]
  },
  {
   "cell_type": "code",
   "execution_count": null,
   "id": "3904568f",
   "metadata": {},
   "outputs": [],
   "source": [
    "s = {1,2,2,3}\n",
    "print(s)\n",
    "s.add(4)\n",
    "print(s)"
   ]
  },
  {
   "cell_type": "code",
   "execution_count": null,
   "id": "1842a75b",
   "metadata": {},
   "outputs": [],
   "source": [
    "# Task: Convert a list with duplicates to a set, report unique count."
   ]
  },
  {
   "cell_type": "markdown",
   "id": "4648adec",
   "metadata": {},
   "source": [
    "## Dictionaries\n",
    "Key–value mapping."
   ]
  },
  {
   "cell_type": "code",
   "execution_count": null,
   "id": "8d986c37",
   "metadata": {},
   "outputs": [],
   "source": [
    "student = {\"name\":\"Ada\",\"age\":25}\n",
    "print(student[\"name\"])\n",
    "student[\"major\"]=\"CS\"\n",
    "print(student)"
   ]
  },
  {
   "cell_type": "code",
   "execution_count": null,
   "id": "91896ba3",
   "metadata": {},
   "outputs": [],
   "source": [
    "# Task: Create a dict of three course→instructor pairs and print keys."
   ]
  },
  {
   "cell_type": "markdown",
   "id": "6436f30f",
   "metadata": {},
   "source": [
    "## Strings\n",
    "Text data; immutable; support indexing/slicing and many methods."
   ]
  },
  {
   "cell_type": "code",
   "execution_count": null,
   "id": "251c3c77",
   "metadata": {},
   "outputs": [],
   "source": [
    "s = \"Behavior Science\"\n",
    "print(len(s), s[:8], s.split())"
   ]
  },
  {
   "cell_type": "code",
   "execution_count": null,
   "id": "054958a7",
   "metadata": {},
   "outputs": [],
   "source": [
    "# Task: Given a full name string, print initials (e.g., Ada Lovelace -> A.L.)"
   ]
  },
  {
   "cell_type": "markdown",
   "id": "35758239",
   "metadata": {},
   "source": [
    "## Modules & Imports\n",
    "Reuse code from the standard library or packages."
   ]
  },
  {
   "cell_type": "code",
   "execution_count": null,
   "id": "707684fb",
   "metadata": {},
   "outputs": [],
   "source": [
    "import math\n",
    "print(math.sqrt(16))"
   ]
  },
  {
   "cell_type": "code",
   "execution_count": null,
   "id": "4de1dbfd",
   "metadata": {},
   "outputs": [],
   "source": [
    "# Task: from datetime import datetime; print current date/time."
   ]
  },
  {
   "cell_type": "markdown",
   "id": "c62ec8d2",
   "metadata": {},
   "source": [
    "## Packages & pip\n",
    "Install external libraries from PyPI with pip."
   ]
  },
  {
   "cell_type": "code",
   "execution_count": null,
   "id": "5685d125",
   "metadata": {},
   "outputs": [],
   "source": [
    "# !pip install requests  # run in Colab/locally if desired\n",
    "import sys\n",
    "print(\"pip available at:\", sys.executable)"
   ]
  },
  {
   "cell_type": "code",
   "execution_count": null,
   "id": "b71d4bad",
   "metadata": {},
   "outputs": [],
   "source": [
    "# Task: (Optional) Install `numpy` and print numpy.__version__."
   ]
  },
  {
   "cell_type": "markdown",
   "id": "3842febf",
   "metadata": {},
   "source": [
    "## File I/O\n",
    "Read/write files with open(). Always close or use `with`."
   ]
  },
  {
   "cell_type": "code",
   "execution_count": null,
   "id": "608a8995",
   "metadata": {},
   "outputs": [],
   "source": [
    "from pathlib import Path\n",
    "p = Path(\"example.txt\")\n",
    "with p.open(\"w\") as f:\n",
    "    f.write(\"hello file!\")\n",
    "print(p.read_text())"
   ]
  },
  {
   "cell_type": "code",
   "execution_count": null,
   "id": "c70d4285",
   "metadata": {},
   "outputs": [],
   "source": [
    "# Task: Write three lines to a file and then read them back."
   ]
  },
  {
   "cell_type": "markdown",
   "id": "6ec2428b",
   "metadata": {},
   "source": [
    "## Working Directory\n",
    "The folder where Python reads/writes by default. Manage with os/pathlib."
   ]
  },
  {
   "cell_type": "code",
   "execution_count": null,
   "id": "06dc0f1f",
   "metadata": {},
   "outputs": [],
   "source": [
    "import os\n",
    "from pathlib import Path\n",
    "print(\"CWD:\", os.getcwd())\n",
    "# List files\n",
    "print([p.name for p in Path(\".\").iterdir()][:10])"
   ]
  },
  {
   "cell_type": "code",
   "execution_count": null,
   "id": "5254e9c9",
   "metadata": {},
   "outputs": [],
   "source": [
    "# Task: Create a subfolder `data` (if not exists) and change into it, then print CWD."
   ]
  },
  {
   "cell_type": "markdown",
   "id": "c17d13f4",
   "metadata": {},
   "source": [
    "## Classes & Objects\n",
    "Blueprints (classes) and instances (objects) with attributes & methods."
   ]
  },
  {
   "cell_type": "code",
   "execution_count": null,
   "id": "13cf6262",
   "metadata": {},
   "outputs": [],
   "source": [
    "class Counter:\n",
    "    def __init__(self):\n",
    "        self.value = 0\n",
    "    def inc(self):\n",
    "        self.value += 1\n",
    "c = Counter(); c.inc(); print(c.value)"
   ]
  },
  {
   "cell_type": "code",
   "execution_count": null,
   "id": "f61ed18d",
   "metadata": {},
   "outputs": [],
   "source": [
    "# Task: Add a `dec` method to Counter and test it."
   ]
  },
  {
   "cell_type": "markdown",
   "id": "690adef8",
   "metadata": {},
   "source": [
    "## Final Challenge — Rename all files in a directory\n",
    "\n",
    "**Goal:** Rename every file in a folder to include (in order, separated by underscores):\n",
    "\n",
    "`<studentName>_<participantName>_<YYMMDD>_<originalFileName>`\n",
    "\n",
    "- `YYMMDD` should be extracted from each file's **creation** (or earliest available) timestamp in metadata.\n",
    "- If a true *creation time* isn’t available, fall back to the last modified time.\n",
    "- Keep the original extension intact.\n",
    "- Skip subdirectories.\n",
    "\n",
    "> **Safety:** Always test on a *copy* of files first.\n"
   ]
  },
  {
   "cell_type": "code",
   "execution_count": null,
   "id": "acb648a8",
   "metadata": {},
   "outputs": [],
   "source": [
    "from pathlib import Path\n",
    "import os\n",
    "import time\n",
    "from datetime import datetime\n",
    "\n",
    "# --- Student editable parameters ---\n",
    "folder = Path(\"./rename_me\")         # change this to your target folder\n",
    "student_name = \"YourName\"            # e.g., \"SouvikMandal\"\n",
    "participant_name = \"Participant01\"   # e.g., \"P01\"\n",
    "# -----------------------------------\n",
    "\n",
    "folder.mkdir(exist_ok=True)  # ensure folder exists for testing\n",
    "\n",
    "def yymmdd_from_metadata(path: Path) -> str:\n",
    "    \"\"\"Return YYMMDD derived from creation time if available; else from modified time.\"\"\"\n",
    "    try:\n",
    "        stat = path.stat()\n",
    "        candidates = [stat.st_mtime]\n",
    "        if hasattr(stat, \"st_ctime\"):\n",
    "            candidates.append(stat.st_ctime)\n",
    "        ts = min(candidates)\n",
    "        dt = datetime.fromtimestamp(ts)\n",
    "        return dt.strftime(\"%y%m%d\")\n",
    "    except Exception:\n",
    "        return datetime.now().strftime(\"%y%m%d\")\n",
    "\n",
    "def build_new_name(path: Path) -> Path:\n",
    "    ymd = yymmdd_from_metadata(path)\n",
    "    stem = path.stem\n",
    "    return path.with_name(f\"{student_name}_{participant_name}_{ymd}_{stem}{path.suffix}\")\n",
    "\n",
    "def rename_all(target: Path):\n",
    "    for p in target.iterdir():\n",
    "        if p.is_file():\n",
    "            newp = build_new_name(p)\n",
    "            if newp == p:\n",
    "                continue\n",
    "            counter = 1\n",
    "            candidate = newp\n",
    "            while candidate.exists():\n",
    "                candidate = newp.with_name(f\"{newp.stem}_{counter}{newp.suffix}\")\n",
    "                counter += 1\n",
    "            print(f\"Renaming: {p.name} -> {candidate.name}\")\n",
    "            p.rename(candidate)\n",
    "\n",
    "# Demo files if folder empty\n",
    "if not any(folder.iterdir()):\n",
    "    for i in range(3):\n",
    "        f = folder / f\"sample_{i}.txt\"\n",
    "        f.write_text(f\"dummy {i}\")\n",
    "        os.utime(f, (time.time() - (i+1)*86400, time.time() - (i+1)*86400))\n",
    "\n",
    "rename_all(folder)\n",
    "print(\"After:\", [p.name for p in folder.iterdir() if p.is_file()])"
   ]
  }
 ],
 "metadata": {
  "kernelspec": {
   "display_name": "Python 3 (ipykernel)",
   "language": "python",
   "name": "python3"
  },
  "language_info": {
   "codemirror_mode": {
    "name": "ipython",
    "version": 3
   },
   "file_extension": ".py",
   "mimetype": "text/x-python",
   "name": "python",
   "nbconvert_exporter": "python",
   "pygments_lexer": "ipython3",
   "version": "3.13.7"
  }
 },
 "nbformat": 4,
 "nbformat_minor": 5
}

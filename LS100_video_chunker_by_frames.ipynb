{
 "cells": [
  {
   "cell_type": "markdown",
   "id": "b98b056a",
   "metadata": {},
   "source": [
    "\n",
    "# Video Chunker by Frame Count (OpenCV)\n",
    "\n",
    "This notebook splits a video into consecutive **frame-count–based** chunks and saves them into a subfolder named after the source video.\n",
    "\n",
    "**Example:** `user/xyz/documents/videos/example.mp4` → outputs into `user/xyz/documents/videos/example/` as `example_chunk01.mp4`, `example_chunk02.mp4`, …\n"
   ]
  },
  {
   "cell_type": "markdown",
   "id": "d5a86048",
   "metadata": {},
   "source": [
    "\n",
    "## Overview\n",
    "\n",
    "**What this does**\n",
    "- Creates an output subdirectory with the **base filename** of your video.\n",
    "- Splits the video into consecutive chunks, each containing a user-defined number of **frames**.\n",
    "- Writes a final remainder chunk if the video length isn't divisible by your chunk size.\n",
    "- Names chunks as: `<video_stem>_chunkXX.mp4` (e.g., `example_chunk01.mp4`).\n",
    "\n",
    "**Why frames (not time)?**  \n",
    "This ensures exact frame counts per chunk, which is helpful when you want deterministic splits for annotation, ML, or analysis workflows.\n",
    "\n",
    "---\n",
    "\n",
    "## Requirements\n",
    "\n",
    "- Python 3.8+\n",
    "- [OpenCV](https://pypi.org/project/opencv-python/) (`cv2`) installed with a working backend (FFmpeg/GStreamer depending on OS).\n",
    "- Sufficient disk space to write chunked files.\n",
    "\n",
    "> **Tip (macOS/Linux):** If your OpenCV lacks codecs, install/enable FFmpeg. On macOS, `brew install ffmpeg` can help; on Linux, install via your package manager.\n"
   ]
  },
  {
   "cell_type": "markdown",
   "id": "ba60756e",
   "metadata": {},
   "source": [
    "\n",
    "## Install OpenCV, if you need\n",
    "\n",
    "Uncomment and run the cell below **if** you need to install OpenCV. If you're in a restricted network, install locally on your machine.\n"
   ]
  },
  {
   "cell_type": "code",
   "execution_count": null,
   "id": "d22e71b6",
   "metadata": {},
   "outputs": [],
   "source": [
    "\n",
    "#!pip install --upgrade opencv-python\n",
    "\n",
    "# If you need FFMPEG-enabled backend, ensure FFmpeg is installed system-wide.\n",
    "#!pip install ffmpeg\n",
    "\n"
   ]
  },
  {
   "cell_type": "markdown",
   "id": "73a895b1",
   "metadata": {},
   "source": [
    "\n",
    "## 1) Set Your Inputs\n",
    "\n",
    "- `input_path`: Absolute or relative path to your video file.\n",
    "- `chunk_num_frame`: Number of frames per chunk (positive integer).\n",
    "- `codec`: FourCC code for output (default `mp4v`; try `avc1` or `H264` if available on your system for smaller files).\n"
   ]
  },
  {
   "cell_type": "code",
   "execution_count": null,
   "id": "34a200db",
   "metadata": {},
   "outputs": [],
   "source": [
    "\n",
    "from pathlib import Path\n",
    "\n",
    "# >>> EDIT THESE <<<\n",
    "input_path = Path(\"/Users/souvikmandal/Documents/example.mp4\")\n",
    "chunk_num_frame = 1000\n",
    "codec = \"mp4v\"   # alternatives: \"avc1\", \"H264\" (requires proper system codecs)\n",
    "\n",
    "# No edits needed below\n",
    "input_path = input_path.expanduser().resolve()\n",
    "input_path\n"
   ]
  },
  {
   "cell_type": "markdown",
   "id": "e57583fb",
   "metadata": {},
   "source": [
    "\n",
    "## 2) Core Function\n",
    "\n",
    "The function below reads frames sequentially and writes chunk files with the same FPS and resolution as the source video.\n"
   ]
  },
  {
   "cell_type": "code",
   "execution_count": 4,
   "id": "14ab5e8a",
   "metadata": {},
   "outputs": [],
   "source": [
    "\n",
    "import sys\n",
    "import cv2\n",
    "\n",
    "def split_video_by_frames(input_path: Path, chunk_num_frame: int, codec: str = \"mp4v\") -> Path:\n",
    "    \"\"\"Split a video into consecutive chunks by frame count.\n",
    "\n",
    "    Args:\n",
    "        input_path: Path to the input video.\n",
    "        chunk_num_frame: Number of frames per chunk (must be > 0).\n",
    "        codec: FourCC for output encoding (e.g., 'mp4v', 'avc1', 'H264').\n",
    "\n",
    "    Returns:\n",
    "        Path to the output directory where chunks are saved.\n",
    "    \"\"\"\n",
    "    if not input_path.exists() or not input_path.is_file():\n",
    "        raise FileNotFoundError(f\"Input file not found: {input_path}\")\n",
    "    if chunk_num_frame <= 0:\n",
    "        raise ValueError(\"--chunk_num_frame must be a positive integer.\")\n",
    "\n",
    "    stem = input_path.stem                      # e.g., \"example\"\n",
    "    parent_dir = input_path.parent              # e.g., user/xyz/documents/videos\n",
    "    output_dir = parent_dir / stem              # e.g., user/xyz/documents/videos/example\n",
    "    output_dir.mkdir(parents=True, exist_ok=True)\n",
    "\n",
    "    cap = cv2.VideoCapture(str(input_path))\n",
    "    if not cap.isOpened():\n",
    "        raise RuntimeError(f\"Could not open video: {input_path}\")\n",
    "\n",
    "    fps = cap.get(cv2.CAP_PROP_FPS)\n",
    "    width = int(cap.get(cv2.CAP_PROP_FRAME_WIDTH))\n",
    "    height = int(cap.get(cv2.CAP_PROP_FRAME_HEIGHT))\n",
    "\n",
    "    if fps <= 0 or width <= 0 or height <= 0:\n",
    "        print(\"[WARN] Could not read video metadata reliably. Proceeding with defaults if possible.\", file=sys.stderr)\n",
    "\n",
    "    fourcc = cv2.VideoWriter_fourcc(*codec)\n",
    "    chunk_idx = 1\n",
    "    frames_in_current_chunk = 0\n",
    "    total_frames = 0\n",
    "    writer = None\n",
    "\n",
    "    def start_new_writer(index: int):\n",
    "        nonlocal writer, frames_in_current_chunk\n",
    "        out_name = f\"{stem}_chunk{index:02d}.mp4\"\n",
    "        out_path = output_dir / out_name\n",
    "        writer = cv2.VideoWriter(str(out_path), fourcc, fps if fps > 0 else 30.0, (width, height))\n",
    "        if not writer.isOpened():\n",
    "            cap.release()\n",
    "            raise RuntimeError(f\"Could not open writer for: {out_path}\")\n",
    "        frames_in_current_chunk = 0\n",
    "        print(f\"[INFO] Writing: {out_path}\")\n",
    "\n",
    "    # Initialize writer for the first chunk\n",
    "    start_new_writer(chunk_idx)\n",
    "\n",
    "    try:\n",
    "        while True:\n",
    "            ok, frame = cap.read()\n",
    "            if not ok:\n",
    "                break  # end of video\n",
    "\n",
    "            writer.write(frame)\n",
    "            frames_in_current_chunk += 1\n",
    "            total_frames += 1\n",
    "\n",
    "            if frames_in_current_chunk >= chunk_num_frame:\n",
    "                writer.release()\n",
    "                chunk_idx += 1\n",
    "                start_new_writer(chunk_idx)\n",
    "    finally:\n",
    "        if writer is not None:\n",
    "            if frames_in_current_chunk == 0:\n",
    "                # last writer created but no frames written; try to delete empty file\n",
    "                writer.release()\n",
    "                empty_out = output_dir / f\"{stem}_chunk{chunk_idx:02d}.mp4\"\n",
    "                try:\n",
    "                    if empty_out.exists() and empty_out.stat().st_size == 0:\n",
    "                        empty_out.unlink(missing_ok=True)\n",
    "                except Exception:\n",
    "                    pass\n",
    "            else:\n",
    "                writer.release()\n",
    "        cap.release()\n",
    "\n",
    "    print(\"\\n[SUMMARY]\")\n",
    "    print(f\"  Input video: {input_path}\")\n",
    "    print(f\"  Output dir : {output_dir}\")\n",
    "    print(f\"  Total frames processed: {total_frames}\")\n",
    "    return output_dir\n"
   ]
  },
  {
   "cell_type": "markdown",
   "id": "232d1c78",
   "metadata": {},
   "source": [
    "\n",
    "## 3) Run the Splitter\n",
    "\n",
    "Run the cell below to split your video using the parameters defined earlier.\n"
   ]
  },
  {
   "cell_type": "code",
   "execution_count": null,
   "id": "d9ff220e",
   "metadata": {},
   "outputs": [],
   "source": [
    "\n",
    "out_dir = split_video_by_frames(input_path, chunk_num_frame, codec)\n",
    "out_dir\n"
   ]
  },
  {
   "cell_type": "markdown",
   "id": "d18bf18b",
   "metadata": {},
   "source": [
    "\n",
    "## 4) Verify Outputs\n",
    "\n",
    "List the chunked files to confirm.\n"
   ]
  },
  {
   "cell_type": "code",
   "execution_count": null,
   "id": "dea86907",
   "metadata": {},
   "outputs": [],
   "source": [
    "\n",
    "sorted(list(out_dir.glob(\"*.mp4\")))\n"
   ]
  }
 ],
 "metadata": {
  "kernelspec": {
   "display_name": "MediaPipeEnv",
   "language": "python",
   "name": "python3"
  },
  "language_info": {
   "codemirror_mode": {
    "name": "ipython",
    "version": 3
   },
   "file_extension": ".py",
   "mimetype": "text/x-python",
   "name": "python",
   "nbconvert_exporter": "python",
   "pygments_lexer": "ipython3",
   "version": "3.12.12"
  }
 },
 "nbformat": 4,
 "nbformat_minor": 5
}

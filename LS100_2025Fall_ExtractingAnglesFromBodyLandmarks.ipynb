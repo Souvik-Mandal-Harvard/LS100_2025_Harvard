{
 "cells": [
  {
   "cell_type": "markdown",
   "id": "5973f723",
   "metadata": {},
   "source": [
    "# LS100: Joint Angles & Derived Metrics\n",
    "This notebook takes **2D pose landmarks** produced by the previous notebook and computes **biomechanical joint angles** per frame. It also provides plotting utilities to visualize angle trajectories over time.\n",
    "\n",
    "## Goal\n",
    "**Compute biomechanical joint angles from pose landmark data.**  \n",
    "You will define which angles to compute (e.g., left elbow, right knee) by specifying three landmarks `(A, B, C)` that form the angle at **B** (∠ABC)."
   ]
  },
  {
   "cell_type": "markdown",
   "id": "3d892cbb",
   "metadata": {},
   "source": [
    "### Imports and Environment Check (Code)"
   ]
  },
  {
   "cell_type": "code",
   "execution_count": 16,
   "id": "170bddc8",
   "metadata": {},
   "outputs": [],
   "source": [
    "# In case you need to install any packages (like `plotly` or `seaborn`), uncomment and run the following line:\n",
    "# %pip install plotly seaborn"
   ]
  },
  {
   "cell_type": "code",
   "execution_count": 2,
   "id": "4be25497",
   "metadata": {},
   "outputs": [
    {
     "name": "stdout",
     "output_type": "stream",
     "text": [
      "Python: 3.12.12 (main, Oct  9 2025, 11:07:00) [Clang 16.0.0 (clang-1600.0.26.6)]\n",
      "Pandas: 2.3.3\n",
      "NumPy : 1.26.4\n",
      "Plotly: 6.3.1\n",
      "Seaborn available: True\n"
     ]
    }
   ],
   "source": [
    "# Imports & Environment Check\n",
    "import sys, os\n",
    "from pathlib import Path\n",
    "import numpy as np\n",
    "import pandas as pd\n",
    "import matplotlib.pyplot as plt\n",
    "import plotly as px\n",
    "\n",
    "# Optional (requested) for nicer charts\n",
    "try:\n",
    "    import seaborn as sns  # noqa: F401\n",
    "    _HAS_SEABORN = True\n",
    "except Exception:\n",
    "    _HAS_SEABORN = False\n",
    "\n",
    "print(\"Python:\", sys.version)\n",
    "print(\"Pandas:\", pd.__version__)\n",
    "print(\"NumPy :\", np.__version__)\n",
    "print(\"Plotly:\", px.__version__)\n",
    "print(\"Seaborn available:\", _HAS_SEABORN)\n"
   ]
  },
  {
   "cell_type": "markdown",
   "id": "db38741b",
   "metadata": {},
   "source": [
    "### Load 2D Pose CSV"
   ]
  },
  {
   "cell_type": "code",
   "execution_count": 15,
   "id": "7f423bfa",
   "metadata": {},
   "outputs": [
    {
     "name": "stdout",
     "output_type": "stream",
     "text": [
      "Loaded: /Users/souvikmandal/Documents/06_Teaching_Mentoring/LS100_comp_etho/2025/LS100_Python_Notebooks/outputs/Kevin_2022_Day5_CRNCH_pose2d.csv shape: (63558, 9)\n",
      "Columns: ['video', 'frame', 'time_ms', 'landmark_index', 'landmark_name', 'x', 'y', 'z', 'visibility']\n",
      "Landmark names: ['nose' 'left_eye_inner' 'left_eye' 'left_eye_outer' 'right_eye_inner'\n",
      " 'right_eye' 'right_eye_outer' 'left_ear' 'right_ear' 'mouth_left'\n",
      " 'mouth_right' 'left_shoulder' 'right_shoulder' 'left_elbow' 'right_elbow'\n",
      " 'left_wrist' 'right_wrist' 'left_pinky' 'right_pinky' 'left_index'\n",
      " 'right_index' 'left_thumb' 'right_thumb' 'left_hip' 'right_hip'\n",
      " 'left_knee' 'right_knee' 'left_ankle' 'right_ankle' 'left_heel'\n",
      " 'right_heel' 'left_foot_index' 'right_foot_index']\n"
     ]
    },
    {
     "data": {
      "application/vnd.microsoft.datawrangler.viewer.v0+json": {
       "columns": [
        {
         "name": "index",
         "rawType": "int64",
         "type": "integer"
        },
        {
         "name": "video",
         "rawType": "object",
         "type": "string"
        },
        {
         "name": "frame",
         "rawType": "int64",
         "type": "integer"
        },
        {
         "name": "time_ms",
         "rawType": "int64",
         "type": "integer"
        },
        {
         "name": "landmark_index",
         "rawType": "int64",
         "type": "integer"
        },
        {
         "name": "landmark_name",
         "rawType": "object",
         "type": "string"
        },
        {
         "name": "x",
         "rawType": "float64",
         "type": "float"
        },
        {
         "name": "y",
         "rawType": "float64",
         "type": "float"
        },
        {
         "name": "z",
         "rawType": "float64",
         "type": "float"
        },
        {
         "name": "visibility",
         "rawType": "float64",
         "type": "float"
        }
       ],
       "ref": "5f0d89c2-f855-420e-802d-25e1e98b2c7d",
       "rows": [
        [
         "0",
         "Kevin_2022_Day5_CRNCH.mp4",
         "0",
         "0",
         "0",
         "nose",
         "0.2807684242725372",
         "0.5930603742599487",
         "-0.0027562773320823",
         "0.9837929606437684"
        ],
        [
         "1",
         "Kevin_2022_Day5_CRNCH.mp4",
         "0",
         "0",
         "1",
         "left_eye_inner",
         "0.2643871307373047",
         "0.6011837720870972",
         "0.0100884726271033",
         "0.9748396277427672"
        ],
        [
         "2",
         "Kevin_2022_Day5_CRNCH.mp4",
         "0",
         "0",
         "2",
         "left_eye",
         "0.2636140286922455",
         "0.6050710678100586",
         "0.009718800894916",
         "0.9665724635124208"
        ]
       ],
       "shape": {
        "columns": 9,
        "rows": 3
       }
      },
      "text/html": [
       "<div>\n",
       "<style scoped>\n",
       "    .dataframe tbody tr th:only-of-type {\n",
       "        vertical-align: middle;\n",
       "    }\n",
       "\n",
       "    .dataframe tbody tr th {\n",
       "        vertical-align: top;\n",
       "    }\n",
       "\n",
       "    .dataframe thead th {\n",
       "        text-align: right;\n",
       "    }\n",
       "</style>\n",
       "<table border=\"1\" class=\"dataframe\">\n",
       "  <thead>\n",
       "    <tr style=\"text-align: right;\">\n",
       "      <th></th>\n",
       "      <th>video</th>\n",
       "      <th>frame</th>\n",
       "      <th>time_ms</th>\n",
       "      <th>landmark_index</th>\n",
       "      <th>landmark_name</th>\n",
       "      <th>x</th>\n",
       "      <th>y</th>\n",
       "      <th>z</th>\n",
       "      <th>visibility</th>\n",
       "    </tr>\n",
       "  </thead>\n",
       "  <tbody>\n",
       "    <tr>\n",
       "      <th>0</th>\n",
       "      <td>Kevin_2022_Day5_CRNCH.mp4</td>\n",
       "      <td>0</td>\n",
       "      <td>0</td>\n",
       "      <td>0</td>\n",
       "      <td>nose</td>\n",
       "      <td>0.280768</td>\n",
       "      <td>0.593060</td>\n",
       "      <td>-0.002756</td>\n",
       "      <td>0.983793</td>\n",
       "    </tr>\n",
       "    <tr>\n",
       "      <th>1</th>\n",
       "      <td>Kevin_2022_Day5_CRNCH.mp4</td>\n",
       "      <td>0</td>\n",
       "      <td>0</td>\n",
       "      <td>1</td>\n",
       "      <td>left_eye_inner</td>\n",
       "      <td>0.264387</td>\n",
       "      <td>0.601184</td>\n",
       "      <td>0.010088</td>\n",
       "      <td>0.974840</td>\n",
       "    </tr>\n",
       "    <tr>\n",
       "      <th>2</th>\n",
       "      <td>Kevin_2022_Day5_CRNCH.mp4</td>\n",
       "      <td>0</td>\n",
       "      <td>0</td>\n",
       "      <td>2</td>\n",
       "      <td>left_eye</td>\n",
       "      <td>0.263614</td>\n",
       "      <td>0.605071</td>\n",
       "      <td>0.009719</td>\n",
       "      <td>0.966572</td>\n",
       "    </tr>\n",
       "  </tbody>\n",
       "</table>\n",
       "</div>"
      ],
      "text/plain": [
       "                       video  frame  time_ms  landmark_index   landmark_name  \\\n",
       "0  Kevin_2022_Day5_CRNCH.mp4      0        0               0            nose   \n",
       "1  Kevin_2022_Day5_CRNCH.mp4      0        0               1  left_eye_inner   \n",
       "2  Kevin_2022_Day5_CRNCH.mp4      0        0               2        left_eye   \n",
       "\n",
       "          x         y         z  visibility  \n",
       "0  0.280768  0.593060 -0.002756    0.983793  \n",
       "1  0.264387  0.601184  0.010088    0.974840  \n",
       "2  0.263614  0.605071  0.009719    0.966572  "
      ]
     },
     "execution_count": 15,
     "metadata": {},
     "output_type": "execute_result"
    }
   ],
   "source": [
    "# 5) Load 2D Pose CSV\n",
    "# Set the path to your *_pose2d.csv (raw or *_filtered.csv) from Notebook 1.\n",
    "pose2d_csv_path = r\"/Users/souvikmandal/Documents/06_Teaching_Mentoring/LS100_comp_etho/2025/LS100_Python_Notebooks/outputs/Kevin_2022_Day5_CRNCH_pose2d.csv\"  # ← replace as needed\n",
    "\n",
    "df = pd.read_csv(pose2d_csv_path)\n",
    "print(\"Loaded:\", pose2d_csv_path, \"shape:\", df.shape)\n",
    "print(\"Columns:\", list(df.columns))\n",
    "if \"landmark_name\" in df.columns:\n",
    "    print(\"Landmark names:\", df[\"landmark_name\"].unique()[:40])\n",
    "df.head(3)\n"
   ]
  },
  {
   "cell_type": "markdown",
   "id": "c0895a33",
   "metadata": {},
   "source": [
    "## Define Custom Angles\n",
    "Provide a list of angle definitions. Each item defines the angle at **B** formed by points **A–B–C**.\n",
    "\n",
    "**Example:**\n",
    "```python\n",
    "angle_defs = [\n",
    "    {\"name\": \"left_elbow\",  \"A\": \"left_shoulder\", \"B\": \"left_elbow\", \"C\": \"left_wrist\"},\n",
    "    {\"name\": \"right_knee\",  \"A\": \"right_hip\",     \"B\": \"right_knee\", \"C\": \"right_ankle\"},\n",
    "]\n"
   ]
  },
  {
   "cell_type": "code",
   "execution_count": 3,
   "id": "399d18a1",
   "metadata": {},
   "outputs": [
    {
     "data": {
      "text/plain": [
       "[{'name': 'left_elbow',\n",
       "  'A': 'left_shoulder',\n",
       "  'B': 'left_elbow',\n",
       "  'C': 'left_wrist'},\n",
       " {'name': 'right_elbow',\n",
       "  'A': 'right_shoulder',\n",
       "  'B': 'right_elbow',\n",
       "  'C': 'right_wrist'},\n",
       " {'name': 'left_knee', 'A': 'left_hip', 'B': 'left_knee', 'C': 'left_ankle'},\n",
       " {'name': 'right_knee',\n",
       "  'A': 'right_hip',\n",
       "  'B': 'right_knee',\n",
       "  'C': 'right_ankle'}]"
      ]
     },
     "execution_count": 3,
     "metadata": {},
     "output_type": "execute_result"
    }
   ],
   "source": [
    "\n",
    "# Edit this list for your work:\n",
    "angle_defs = [\n",
    "    {\"name\": \"left_elbow\",  \"A\": \"left_shoulder\", \"B\": \"left_elbow\", \"C\": \"left_wrist\"},\n",
    "    {\"name\": \"right_elbow\", \"A\": \"right_shoulder\",\"B\": \"right_elbow\",\"C\": \"right_wrist\"},\n",
    "    {\"name\": \"left_knee\",   \"A\": \"left_hip\",      \"B\": \"left_knee\",  \"C\": \"left_ankle\"},\n",
    "    {\"name\": \"right_knee\",  \"A\": \"right_hip\",     \"B\": \"right_knee\", \"C\": \"right_ankle\"},\n",
    "]\n",
    "angle_defs"
   ]
  },
  {
   "cell_type": "markdown",
   "id": "64c43213",
   "metadata": {},
   "source": [
    "### Computation Angles\n",
    "\n",
    "#### Angle Computation Function\n",
    "\n",
    "* The following function calculates the angles you defined.\n",
    "* Please change the `visibility_thresh` according to your desire. This will determine the 'confidence' in each angle in each frame.\n",
    "\n",
    "\"good\" → all three landmarks ≥ threshold  \n",
    "\"low\" → exactly one landmark < threshold  \n",
    "\"least\" → two or three landmarks < threshold\n"
   ]
  },
  {
   "cell_type": "code",
   "execution_count": 22,
   "id": "e97ce8e4",
   "metadata": {},
   "outputs": [],
   "source": [
    "# User threshold for angle confidence (edit if desired)\n",
    "visibility_thresh = 0.5  # used only for confidence labels here\n",
    "\n",
    "def _wide_xyv(df2d: pd.DataFrame) -> pd.DataFrame:\n",
    "    \"\"\"\n",
    "    Pivot to wide format with index (video, frame, time_ms) and columns:\n",
    "      x_<landmark>, y_<landmark>, v_<landmark>\n",
    "    If 'visibility' is missing, v_<landmark> defaults to 1.0 (assume good).\n",
    "    \"\"\"\n",
    "    w_x = df2d.pivot_table(index=[\"video\",\"frame\",\"time_ms\"], columns=\"landmark_name\", values=\"x\")\n",
    "    w_y = df2d.pivot_table(index=[\"video\",\"frame\",\"time_ms\"], columns=\"landmark_name\", values=\"y\")\n",
    "    if \"visibility\" in df2d.columns:\n",
    "        w_v = df2d.pivot_table(index=[\"video\",\"frame\",\"time_ms\"], columns=\"landmark_name\", values=\"visibility\").fillna(0.0)\n",
    "    else:\n",
    "        w_v = pd.DataFrame(1.0, index=w_x.index, columns=w_x.columns)\n",
    "\n",
    "    w_x.columns = [f\"x_{c}\" for c in w_x.columns]\n",
    "    w_y.columns = [f\"y_{c}\" for c in w_y.columns]\n",
    "    w_v.columns = [f\"v_{c}\" for c in w_v.columns]\n",
    "\n",
    "    w = pd.concat([w_x, w_y, w_v], axis=1).sort_index()\n",
    "    return w\n",
    "\n",
    "def _angle_at_B(A_pts: np.ndarray, B_pts: np.ndarray, C_pts: np.ndarray) -> np.ndarray:\n",
    "    \"\"\"\n",
    "    Compute angle at B for triplets (A, B, C) for all rows.\n",
    "    Expects arrays [N,2]. Returns degrees in [0,180].\n",
    "    \"\"\"\n",
    "    BA = A_pts - B_pts\n",
    "    BC = C_pts - B_pts\n",
    "    denom = (np.linalg.norm(BA, axis=1) * np.linalg.norm(BC, axis=1)) + 1e-9\n",
    "    cosang = (BA * BC).sum(1) / denom\n",
    "    cosang = np.clip(cosang, -1.0, 1.0)\n",
    "    return np.degrees(np.arccos(cosang))\n",
    "\n",
    "def compute_angles(df2d: pd.DataFrame, defs: list, visibility_thresh: float = 0.5) -> pd.DataFrame:\n",
    "    \"\"\"\n",
    "    Returns a DataFrame with (video, frame, time_ms) + per-angle columns:\n",
    "      angle_<name>           (float degrees)\n",
    "      confidence_<name>      ('good' | 'low' | 'least')\n",
    "\n",
    "    Confidence rule per frame for a given angle:\n",
    "      - 'good'  : all A/B/C vis >= threshold\n",
    "      - 'low'   : exactly one of A/B/C vis < threshold\n",
    "      - 'least' : two or three of A/B/C vis < threshold\n",
    "    \"\"\"\n",
    "    w = _wide_xyv(df2d)\n",
    "    out = pd.DataFrame(index=w.index)\n",
    "\n",
    "    for d in defs:\n",
    "        A, B, C = d[\"A\"], d[\"B\"], d[\"C\"]\n",
    "        name = d[\"name\"]\n",
    "        cols_needed = [f\"x_{A}\", f\"y_{A}\", f\"x_{B}\", f\"y_{B}\", f\"x_{C}\", f\"y_{C}\",\n",
    "                       f\"v_{A}\", f\"v_{B}\", f\"v_{C}\"]\n",
    "        missing = [c for c in cols_needed if c not in w.columns]\n",
    "        if missing:\n",
    "            print(f\"Warning: missing columns for angle '{name}': {missing}. Skipping.\")\n",
    "            continue\n",
    "\n",
    "        # assemble points\n",
    "        A_pts = np.c_[w[f\"x_{A}\"].values, w[f\"y_{A}\"].values]\n",
    "        B_pts = np.c_[w[f\"x_{B}\"].values, w[f\"y_{B}\"].values]\n",
    "        C_pts = np.c_[w[f\"x_{C}\"].values, w[f\"y_{C}\"].values]\n",
    "        ang   = _angle_at_B(A_pts, B_pts, C_pts)\n",
    "\n",
    "        # confidence per frame for this angle\n",
    "        vA = w[f\"v_{A}\"].fillna(0.0).values\n",
    "        vB = w[f\"v_{B}\"].fillna(0.0).values\n",
    "        vC = w[f\"v_{C}\"].fillna(0.0).values\n",
    "        below = (vA < visibility_thresh).astype(int) + (vB < visibility_thresh).astype(int) + (vC < visibility_thresh).astype(int)\n",
    "\n",
    "        conf = np.where(below == 0, \"good\", np.where(below == 1, \"low\", \"least\"))\n",
    "\n",
    "        # write columns\n",
    "        out[f\"angle_{name}\"] = ang\n",
    "        out[f\"confidence_{name}\"] = conf\n",
    "\n",
    "    return out.reset_index()\n"
   ]
  },
  {
   "cell_type": "markdown",
   "id": "e8b96d82",
   "metadata": {},
   "source": [
    "#### 6.b Core logic to compute ∠ABC"
   ]
  },
  {
   "cell_type": "code",
   "execution_count": 23,
   "id": "ecdfefc8",
   "metadata": {},
   "outputs": [
    {
     "name": "stdout",
     "output_type": "stream",
     "text": [
      "Angles shape: (1926, 11)\n"
     ]
    },
    {
     "data": {
      "application/vnd.microsoft.datawrangler.viewer.v0+json": {
       "columns": [
        {
         "name": "index",
         "rawType": "int64",
         "type": "integer"
        },
        {
         "name": "video",
         "rawType": "object",
         "type": "string"
        },
        {
         "name": "frame",
         "rawType": "int64",
         "type": "integer"
        },
        {
         "name": "time_ms",
         "rawType": "int64",
         "type": "integer"
        },
        {
         "name": "angle_left_elbow",
         "rawType": "float64",
         "type": "float"
        },
        {
         "name": "confidence_left_elbow",
         "rawType": "object",
         "type": "string"
        },
        {
         "name": "angle_right_elbow",
         "rawType": "float64",
         "type": "float"
        },
        {
         "name": "confidence_right_elbow",
         "rawType": "object",
         "type": "string"
        },
        {
         "name": "angle_left_knee",
         "rawType": "float64",
         "type": "float"
        },
        {
         "name": "confidence_left_knee",
         "rawType": "object",
         "type": "string"
        },
        {
         "name": "angle_right_knee",
         "rawType": "float64",
         "type": "float"
        },
        {
         "name": "confidence_right_knee",
         "rawType": "object",
         "type": "string"
        }
       ],
       "ref": "2a7ad1d6-1f6a-446c-a58a-d8c67fd65cc5",
       "rows": [
        [
         "0",
         "Kevin_2022_Day5_CRNCH.mp4",
         "0",
         "0",
         "83.99606281233173",
         "least",
         "44.440382674421514",
         "low",
         "39.25580677386495",
         "least",
         "36.62270099954913",
         "low"
        ],
        [
         "1",
         "Kevin_2022_Day5_CRNCH.mp4",
         "1",
         "16",
         "78.45397145822976",
         "least",
         "34.24381437173946",
         "low",
         "39.39620236500702",
         "least",
         "36.87029096617431",
         "low"
        ],
        [
         "2",
         "Kevin_2022_Day5_CRNCH.mp4",
         "2",
         "33",
         "76.98431411157117",
         "least",
         "34.8242889848232",
         "low",
         "39.308962923932526",
         "least",
         "36.949931293467664",
         "low"
        ],
        [
         "3",
         "Kevin_2022_Day5_CRNCH.mp4",
         "3",
         "50",
         "77.41860863228558",
         "least",
         "31.564307790156107",
         "low",
         "39.32476083999896",
         "least",
         "37.02916645307924",
         "low"
        ],
        [
         "4",
         "Kevin_2022_Day5_CRNCH.mp4",
         "4",
         "66",
         "77.23527703147684",
         "least",
         "36.63264689052158",
         "low",
         "39.35060004059118",
         "least",
         "37.07061263942882",
         "low"
        ]
       ],
       "shape": {
        "columns": 11,
        "rows": 5
       }
      },
      "text/html": [
       "<div>\n",
       "<style scoped>\n",
       "    .dataframe tbody tr th:only-of-type {\n",
       "        vertical-align: middle;\n",
       "    }\n",
       "\n",
       "    .dataframe tbody tr th {\n",
       "        vertical-align: top;\n",
       "    }\n",
       "\n",
       "    .dataframe thead th {\n",
       "        text-align: right;\n",
       "    }\n",
       "</style>\n",
       "<table border=\"1\" class=\"dataframe\">\n",
       "  <thead>\n",
       "    <tr style=\"text-align: right;\">\n",
       "      <th></th>\n",
       "      <th>video</th>\n",
       "      <th>frame</th>\n",
       "      <th>time_ms</th>\n",
       "      <th>angle_left_elbow</th>\n",
       "      <th>confidence_left_elbow</th>\n",
       "      <th>angle_right_elbow</th>\n",
       "      <th>confidence_right_elbow</th>\n",
       "      <th>angle_left_knee</th>\n",
       "      <th>confidence_left_knee</th>\n",
       "      <th>angle_right_knee</th>\n",
       "      <th>confidence_right_knee</th>\n",
       "    </tr>\n",
       "  </thead>\n",
       "  <tbody>\n",
       "    <tr>\n",
       "      <th>0</th>\n",
       "      <td>Kevin_2022_Day5_CRNCH.mp4</td>\n",
       "      <td>0</td>\n",
       "      <td>0</td>\n",
       "      <td>83.996063</td>\n",
       "      <td>least</td>\n",
       "      <td>44.440383</td>\n",
       "      <td>low</td>\n",
       "      <td>39.255807</td>\n",
       "      <td>least</td>\n",
       "      <td>36.622701</td>\n",
       "      <td>low</td>\n",
       "    </tr>\n",
       "    <tr>\n",
       "      <th>1</th>\n",
       "      <td>Kevin_2022_Day5_CRNCH.mp4</td>\n",
       "      <td>1</td>\n",
       "      <td>16</td>\n",
       "      <td>78.453971</td>\n",
       "      <td>least</td>\n",
       "      <td>34.243814</td>\n",
       "      <td>low</td>\n",
       "      <td>39.396202</td>\n",
       "      <td>least</td>\n",
       "      <td>36.870291</td>\n",
       "      <td>low</td>\n",
       "    </tr>\n",
       "    <tr>\n",
       "      <th>2</th>\n",
       "      <td>Kevin_2022_Day5_CRNCH.mp4</td>\n",
       "      <td>2</td>\n",
       "      <td>33</td>\n",
       "      <td>76.984314</td>\n",
       "      <td>least</td>\n",
       "      <td>34.824289</td>\n",
       "      <td>low</td>\n",
       "      <td>39.308963</td>\n",
       "      <td>least</td>\n",
       "      <td>36.949931</td>\n",
       "      <td>low</td>\n",
       "    </tr>\n",
       "    <tr>\n",
       "      <th>3</th>\n",
       "      <td>Kevin_2022_Day5_CRNCH.mp4</td>\n",
       "      <td>3</td>\n",
       "      <td>50</td>\n",
       "      <td>77.418609</td>\n",
       "      <td>least</td>\n",
       "      <td>31.564308</td>\n",
       "      <td>low</td>\n",
       "      <td>39.324761</td>\n",
       "      <td>least</td>\n",
       "      <td>37.029166</td>\n",
       "      <td>low</td>\n",
       "    </tr>\n",
       "    <tr>\n",
       "      <th>4</th>\n",
       "      <td>Kevin_2022_Day5_CRNCH.mp4</td>\n",
       "      <td>4</td>\n",
       "      <td>66</td>\n",
       "      <td>77.235277</td>\n",
       "      <td>least</td>\n",
       "      <td>36.632647</td>\n",
       "      <td>low</td>\n",
       "      <td>39.350600</td>\n",
       "      <td>least</td>\n",
       "      <td>37.070613</td>\n",
       "      <td>low</td>\n",
       "    </tr>\n",
       "  </tbody>\n",
       "</table>\n",
       "</div>"
      ],
      "text/plain": [
       "                       video  frame  time_ms  angle_left_elbow  \\\n",
       "0  Kevin_2022_Day5_CRNCH.mp4      0        0         83.996063   \n",
       "1  Kevin_2022_Day5_CRNCH.mp4      1       16         78.453971   \n",
       "2  Kevin_2022_Day5_CRNCH.mp4      2       33         76.984314   \n",
       "3  Kevin_2022_Day5_CRNCH.mp4      3       50         77.418609   \n",
       "4  Kevin_2022_Day5_CRNCH.mp4      4       66         77.235277   \n",
       "\n",
       "  confidence_left_elbow  angle_right_elbow confidence_right_elbow  \\\n",
       "0                 least          44.440383                    low   \n",
       "1                 least          34.243814                    low   \n",
       "2                 least          34.824289                    low   \n",
       "3                 least          31.564308                    low   \n",
       "4                 least          36.632647                    low   \n",
       "\n",
       "   angle_left_knee confidence_left_knee  angle_right_knee  \\\n",
       "0        39.255807                least         36.622701   \n",
       "1        39.396202                least         36.870291   \n",
       "2        39.308963                least         36.949931   \n",
       "3        39.324761                least         37.029166   \n",
       "4        39.350600                least         37.070613   \n",
       "\n",
       "  confidence_right_knee  \n",
       "0                   low  \n",
       "1                   low  \n",
       "2                   low  \n",
       "3                   low  \n",
       "4                   low  "
      ]
     },
     "execution_count": 23,
     "metadata": {},
     "output_type": "execute_result"
    }
   ],
   "source": [
    "angles_df = compute_angles(df, angle_defs, visibility_thresh=visibility_thresh)\n",
    "print(\"Angles shape:\", angles_df.shape)\n",
    "angles_df.head()"
   ]
  },
  {
   "cell_type": "markdown",
   "id": "55171154",
   "metadata": {},
   "source": [
    "### Save and Inspect Output"
   ]
  },
  {
   "cell_type": "code",
   "execution_count": 24,
   "id": "70109aa9",
   "metadata": {},
   "outputs": [
    {
     "name": "stdout",
     "output_type": "stream",
     "text": [
      "Saved angles to: /Users/souvikmandal/Documents/06_Teaching_Mentoring/LS100_comp_etho/2025/LS100_Python_Notebooks/outputs/Kevin_2022_Day5_CRNCH_pose2d_angles.csv\n"
     ]
    },
    {
     "data": {
      "application/vnd.microsoft.datawrangler.viewer.v0+json": {
       "columns": [
        {
         "name": "index",
         "rawType": "int64",
         "type": "integer"
        },
        {
         "name": "video",
         "rawType": "object",
         "type": "string"
        },
        {
         "name": "frame",
         "rawType": "int64",
         "type": "integer"
        },
        {
         "name": "time_ms",
         "rawType": "int64",
         "type": "integer"
        },
        {
         "name": "angle_left_elbow",
         "rawType": "float64",
         "type": "float"
        },
        {
         "name": "confidence_left_elbow",
         "rawType": "object",
         "type": "string"
        },
        {
         "name": "angle_right_elbow",
         "rawType": "float64",
         "type": "float"
        },
        {
         "name": "confidence_right_elbow",
         "rawType": "object",
         "type": "string"
        },
        {
         "name": "angle_left_knee",
         "rawType": "float64",
         "type": "float"
        },
        {
         "name": "confidence_left_knee",
         "rawType": "object",
         "type": "string"
        },
        {
         "name": "angle_right_knee",
         "rawType": "float64",
         "type": "float"
        },
        {
         "name": "confidence_right_knee",
         "rawType": "object",
         "type": "string"
        }
       ],
       "ref": "bea05f51-dca5-4f1f-8966-7a552196725e",
       "rows": [
        [
         "0",
         "Kevin_2022_Day5_CRNCH.mp4",
         "0",
         "0",
         "83.99606281233173",
         "least",
         "44.440382674421514",
         "low",
         "39.25580677386495",
         "least",
         "36.62270099954913",
         "low"
        ],
        [
         "1",
         "Kevin_2022_Day5_CRNCH.mp4",
         "1",
         "16",
         "78.45397145822976",
         "least",
         "34.24381437173946",
         "low",
         "39.39620236500702",
         "least",
         "36.87029096617431",
         "low"
        ],
        [
         "2",
         "Kevin_2022_Day5_CRNCH.mp4",
         "2",
         "33",
         "76.98431411157117",
         "least",
         "34.8242889848232",
         "low",
         "39.308962923932526",
         "least",
         "36.949931293467664",
         "low"
        ],
        [
         "3",
         "Kevin_2022_Day5_CRNCH.mp4",
         "3",
         "50",
         "77.41860863228558",
         "least",
         "31.564307790156107",
         "low",
         "39.32476083999896",
         "least",
         "37.02916645307924",
         "low"
        ],
        [
         "4",
         "Kevin_2022_Day5_CRNCH.mp4",
         "4",
         "66",
         "77.23527703147684",
         "least",
         "36.63264689052158",
         "low",
         "39.35060004059118",
         "least",
         "37.07061263942882",
         "low"
        ]
       ],
       "shape": {
        "columns": 11,
        "rows": 5
       }
      },
      "text/html": [
       "<div>\n",
       "<style scoped>\n",
       "    .dataframe tbody tr th:only-of-type {\n",
       "        vertical-align: middle;\n",
       "    }\n",
       "\n",
       "    .dataframe tbody tr th {\n",
       "        vertical-align: top;\n",
       "    }\n",
       "\n",
       "    .dataframe thead th {\n",
       "        text-align: right;\n",
       "    }\n",
       "</style>\n",
       "<table border=\"1\" class=\"dataframe\">\n",
       "  <thead>\n",
       "    <tr style=\"text-align: right;\">\n",
       "      <th></th>\n",
       "      <th>video</th>\n",
       "      <th>frame</th>\n",
       "      <th>time_ms</th>\n",
       "      <th>angle_left_elbow</th>\n",
       "      <th>confidence_left_elbow</th>\n",
       "      <th>angle_right_elbow</th>\n",
       "      <th>confidence_right_elbow</th>\n",
       "      <th>angle_left_knee</th>\n",
       "      <th>confidence_left_knee</th>\n",
       "      <th>angle_right_knee</th>\n",
       "      <th>confidence_right_knee</th>\n",
       "    </tr>\n",
       "  </thead>\n",
       "  <tbody>\n",
       "    <tr>\n",
       "      <th>0</th>\n",
       "      <td>Kevin_2022_Day5_CRNCH.mp4</td>\n",
       "      <td>0</td>\n",
       "      <td>0</td>\n",
       "      <td>83.996063</td>\n",
       "      <td>least</td>\n",
       "      <td>44.440383</td>\n",
       "      <td>low</td>\n",
       "      <td>39.255807</td>\n",
       "      <td>least</td>\n",
       "      <td>36.622701</td>\n",
       "      <td>low</td>\n",
       "    </tr>\n",
       "    <tr>\n",
       "      <th>1</th>\n",
       "      <td>Kevin_2022_Day5_CRNCH.mp4</td>\n",
       "      <td>1</td>\n",
       "      <td>16</td>\n",
       "      <td>78.453971</td>\n",
       "      <td>least</td>\n",
       "      <td>34.243814</td>\n",
       "      <td>low</td>\n",
       "      <td>39.396202</td>\n",
       "      <td>least</td>\n",
       "      <td>36.870291</td>\n",
       "      <td>low</td>\n",
       "    </tr>\n",
       "    <tr>\n",
       "      <th>2</th>\n",
       "      <td>Kevin_2022_Day5_CRNCH.mp4</td>\n",
       "      <td>2</td>\n",
       "      <td>33</td>\n",
       "      <td>76.984314</td>\n",
       "      <td>least</td>\n",
       "      <td>34.824289</td>\n",
       "      <td>low</td>\n",
       "      <td>39.308963</td>\n",
       "      <td>least</td>\n",
       "      <td>36.949931</td>\n",
       "      <td>low</td>\n",
       "    </tr>\n",
       "    <tr>\n",
       "      <th>3</th>\n",
       "      <td>Kevin_2022_Day5_CRNCH.mp4</td>\n",
       "      <td>3</td>\n",
       "      <td>50</td>\n",
       "      <td>77.418609</td>\n",
       "      <td>least</td>\n",
       "      <td>31.564308</td>\n",
       "      <td>low</td>\n",
       "      <td>39.324761</td>\n",
       "      <td>least</td>\n",
       "      <td>37.029166</td>\n",
       "      <td>low</td>\n",
       "    </tr>\n",
       "    <tr>\n",
       "      <th>4</th>\n",
       "      <td>Kevin_2022_Day5_CRNCH.mp4</td>\n",
       "      <td>4</td>\n",
       "      <td>66</td>\n",
       "      <td>77.235277</td>\n",
       "      <td>least</td>\n",
       "      <td>36.632647</td>\n",
       "      <td>low</td>\n",
       "      <td>39.350600</td>\n",
       "      <td>least</td>\n",
       "      <td>37.070613</td>\n",
       "      <td>low</td>\n",
       "    </tr>\n",
       "  </tbody>\n",
       "</table>\n",
       "</div>"
      ],
      "text/plain": [
       "                       video  frame  time_ms  angle_left_elbow  \\\n",
       "0  Kevin_2022_Day5_CRNCH.mp4      0        0         83.996063   \n",
       "1  Kevin_2022_Day5_CRNCH.mp4      1       16         78.453971   \n",
       "2  Kevin_2022_Day5_CRNCH.mp4      2       33         76.984314   \n",
       "3  Kevin_2022_Day5_CRNCH.mp4      3       50         77.418609   \n",
       "4  Kevin_2022_Day5_CRNCH.mp4      4       66         77.235277   \n",
       "\n",
       "  confidence_left_elbow  angle_right_elbow confidence_right_elbow  \\\n",
       "0                 least          44.440383                    low   \n",
       "1                 least          34.243814                    low   \n",
       "2                 least          34.824289                    low   \n",
       "3                 least          31.564308                    low   \n",
       "4                 least          36.632647                    low   \n",
       "\n",
       "   angle_left_knee confidence_left_knee  angle_right_knee  \\\n",
       "0        39.255807                least         36.622701   \n",
       "1        39.396202                least         36.870291   \n",
       "2        39.308963                least         36.949931   \n",
       "3        39.324761                least         37.029166   \n",
       "4        39.350600                least         37.070613   \n",
       "\n",
       "  confidence_right_knee  \n",
       "0                   low  \n",
       "1                   low  \n",
       "2                   low  \n",
       "3                   low  \n",
       "4                   low  "
      ]
     },
     "execution_count": 24,
     "metadata": {},
     "output_type": "execute_result"
    }
   ],
   "source": [
    "pose2d_csv = Path(pose2d_csv_path)\n",
    "out_dir = pose2d_csv.parent\n",
    "angles_out = out_dir / f\"{pose2d_csv.stem}_angles.csv\"\n",
    "angles_df.to_csv(angles_out, index=False)\n",
    "\n",
    "print(\"Saved angles to:\", angles_out)\n",
    "pd.read_csv(angles_out).head()\n"
   ]
  },
  {
   "cell_type": "markdown",
   "id": "1c88d68b",
   "metadata": {},
   "source": [
    "### Plotting the computed angles over time (matplotlib AND seaborn)\n",
    "\n",
    "## 8) Plot Angles with Confidence Highlights\n",
    "\n",
    "In this section, we visualize the computed joint angles for each frame.  \n",
    "You can choose between **Matplotlib**, **Seaborn**, or **Plotly** for plotting:\n",
    "\n",
    "- **Matplotlib** → simple, fast static plots.  \n",
    "- **Seaborn** → adds smoothing and styling for a cleaner look.  \n",
    "- **Plotly** → fully interactive charts with zoom, hover, and export options.\n",
    "\n",
    "Each plot corresponds to one computed angle (e.g., `angle_left_knee`, `angle_right_elbow`, etc.).  \n",
    "Colored transparent vertical patches mark frames with lower landmark visibility confidence:\n",
    "\n",
    "- 🟡 **Yellow** → “low” confidence (one landmark below threshold)  \n",
    "- 🟠 **Orange** → “least” confidence (two or three landmarks below threshold)"
   ]
  },
  {
   "cell_type": "code",
   "execution_count": 25,
   "id": "63a9d15c",
   "metadata": {},
   "outputs": [
    {
     "data": {
      "application/vnd.plotly.v1+json": {
       "config": {
        "plotlyServerURL": "https://plot.ly"
       },
       "data": [
        {
         "hovertemplate": "Frame=%{x}<br>angle_left_elbow (deg)=%{y}<extra></extra>",
         "legendgroup": "",
         "line": {
          "color": "#636efa",
          "dash": "solid"
         },
         "marker": {
          "symbol": "circle"
         },
         "mode": "lines",
         "name": "",
         "showlegend": false,
         "type": "scattergl",
         "x": {
          "bdata": "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",
          "dtype": "i2"
         },
         "xaxis": "x",
         "y": {
          "bdata": "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",
          "dtype": "f8"
         },
         "yaxis": "y"
        }
       ],
       "layout": {
        "hovermode": "x unified",
        "legend": {
         "tracegroupgap": 0
        },
        "margin": {
         "b": 40,
         "l": 40,
         "r": 20,
         "t": 60
        },
        "shapes": [
         {
          "fillcolor": "orange",
          "line": {
           "width": 0
          },
          "opacity": 0.25,
          "type": "rect",
          "x0": 0,
          "x1": 1925,
          "xref": "x",
          "y0": 0,
          "y1": 1,
          "yref": "y domain"
         }
        ],
        "template": {
         "data": {
          "bar": [
           {
            "error_x": {
             "color": "#2a3f5f"
            },
            "error_y": {
             "color": "#2a3f5f"
            },
            "marker": {
             "line": {
              "color": "#E5ECF6",
              "width": 0.5
             },
             "pattern": {
              "fillmode": "overlay",
              "size": 10,
              "solidity": 0.2
             }
            },
            "type": "bar"
           }
          ],
          "barpolar": [
           {
            "marker": {
             "line": {
              "color": "#E5ECF6",
              "width": 0.5
             },
             "pattern": {
              "fillmode": "overlay",
              "size": 10,
              "solidity": 0.2
             }
            },
            "type": "barpolar"
           }
          ],
          "carpet": [
           {
            "aaxis": {
             "endlinecolor": "#2a3f5f",
             "gridcolor": "white",
             "linecolor": "white",
             "minorgridcolor": "white",
             "startlinecolor": "#2a3f5f"
            },
            "baxis": {
             "endlinecolor": "#2a3f5f",
             "gridcolor": "white",
             "linecolor": "white",
             "minorgridcolor": "white",
             "startlinecolor": "#2a3f5f"
            },
            "type": "carpet"
           }
          ],
          "choropleth": [
           {
            "colorbar": {
             "outlinewidth": 0,
             "ticks": ""
            },
            "type": "choropleth"
           }
          ],
          "contour": [
           {
            "colorbar": {
             "outlinewidth": 0,
             "ticks": ""
            },
            "colorscale": [
             [
              0,
              "#0d0887"
             ],
             [
              0.1111111111111111,
              "#46039f"
             ],
             [
              0.2222222222222222,
              "#7201a8"
             ],
             [
              0.3333333333333333,
              "#9c179e"
             ],
             [
              0.4444444444444444,
              "#bd3786"
             ],
             [
              0.5555555555555556,
              "#d8576b"
             ],
             [
              0.6666666666666666,
              "#ed7953"
             ],
             [
              0.7777777777777778,
              "#fb9f3a"
             ],
             [
              0.8888888888888888,
              "#fdca26"
             ],
             [
              1,
              "#f0f921"
             ]
            ],
            "type": "contour"
           }
          ],
          "contourcarpet": [
           {
            "colorbar": {
             "outlinewidth": 0,
             "ticks": ""
            },
            "type": "contourcarpet"
           }
          ],
          "heatmap": [
           {
            "colorbar": {
             "outlinewidth": 0,
             "ticks": ""
            },
            "colorscale": [
             [
              0,
              "#0d0887"
             ],
             [
              0.1111111111111111,
              "#46039f"
             ],
             [
              0.2222222222222222,
              "#7201a8"
             ],
             [
              0.3333333333333333,
              "#9c179e"
             ],
             [
              0.4444444444444444,
              "#bd3786"
             ],
             [
              0.5555555555555556,
              "#d8576b"
             ],
             [
              0.6666666666666666,
              "#ed7953"
             ],
             [
              0.7777777777777778,
              "#fb9f3a"
             ],
             [
              0.8888888888888888,
              "#fdca26"
             ],
             [
              1,
              "#f0f921"
             ]
            ],
            "type": "heatmap"
           }
          ],
          "histogram": [
           {
            "marker": {
             "pattern": {
              "fillmode": "overlay",
              "size": 10,
              "solidity": 0.2
             }
            },
            "type": "histogram"
           }
          ],
          "histogram2d": [
           {
            "colorbar": {
             "outlinewidth": 0,
             "ticks": ""
            },
            "colorscale": [
             [
              0,
              "#0d0887"
             ],
             [
              0.1111111111111111,
              "#46039f"
             ],
             [
              0.2222222222222222,
              "#7201a8"
             ],
             [
              0.3333333333333333,
              "#9c179e"
             ],
             [
              0.4444444444444444,
              "#bd3786"
             ],
             [
              0.5555555555555556,
              "#d8576b"
             ],
             [
              0.6666666666666666,
              "#ed7953"
             ],
             [
              0.7777777777777778,
              "#fb9f3a"
             ],
             [
              0.8888888888888888,
              "#fdca26"
             ],
             [
              1,
              "#f0f921"
             ]
            ],
            "type": "histogram2d"
           }
          ],
          "histogram2dcontour": [
           {
            "colorbar": {
             "outlinewidth": 0,
             "ticks": ""
            },
            "colorscale": [
             [
              0,
              "#0d0887"
             ],
             [
              0.1111111111111111,
              "#46039f"
             ],
             [
              0.2222222222222222,
              "#7201a8"
             ],
             [
              0.3333333333333333,
              "#9c179e"
             ],
             [
              0.4444444444444444,
              "#bd3786"
             ],
             [
              0.5555555555555556,
              "#d8576b"
             ],
             [
              0.6666666666666666,
              "#ed7953"
             ],
             [
              0.7777777777777778,
              "#fb9f3a"
             ],
             [
              0.8888888888888888,
              "#fdca26"
             ],
             [
              1,
              "#f0f921"
             ]
            ],
            "type": "histogram2dcontour"
           }
          ],
          "mesh3d": [
           {
            "colorbar": {
             "outlinewidth": 0,
             "ticks": ""
            },
            "type": "mesh3d"
           }
          ],
          "parcoords": [
           {
            "line": {
             "colorbar": {
              "outlinewidth": 0,
              "ticks": ""
             }
            },
            "type": "parcoords"
           }
          ],
          "pie": [
           {
            "automargin": true,
            "type": "pie"
           }
          ],
          "scatter": [
           {
            "fillpattern": {
             "fillmode": "overlay",
             "size": 10,
             "solidity": 0.2
            },
            "type": "scatter"
           }
          ],
          "scatter3d": [
           {
            "line": {
             "colorbar": {
              "outlinewidth": 0,
              "ticks": ""
             }
            },
            "marker": {
             "colorbar": {
              "outlinewidth": 0,
              "ticks": ""
             }
            },
            "type": "scatter3d"
           }
          ],
          "scattercarpet": [
           {
            "marker": {
             "colorbar": {
              "outlinewidth": 0,
              "ticks": ""
             }
            },
            "type": "scattercarpet"
           }
          ],
          "scattergeo": [
           {
            "marker": {
             "colorbar": {
              "outlinewidth": 0,
              "ticks": ""
             }
            },
            "type": "scattergeo"
           }
          ],
          "scattergl": [
           {
            "marker": {
             "colorbar": {
              "outlinewidth": 0,
              "ticks": ""
             }
            },
            "type": "scattergl"
           }
          ],
          "scattermap": [
           {
            "marker": {
             "colorbar": {
              "outlinewidth": 0,
              "ticks": ""
             }
            },
            "type": "scattermap"
           }
          ],
          "scattermapbox": [
           {
            "marker": {
             "colorbar": {
              "outlinewidth": 0,
              "ticks": ""
             }
            },
            "type": "scattermapbox"
           }
          ],
          "scatterpolar": [
           {
            "marker": {
             "colorbar": {
              "outlinewidth": 0,
              "ticks": ""
             }
            },
            "type": "scatterpolar"
           }
          ],
          "scatterpolargl": [
           {
            "marker": {
             "colorbar": {
              "outlinewidth": 0,
              "ticks": ""
             }
            },
            "type": "scatterpolargl"
           }
          ],
          "scatterternary": [
           {
            "marker": {
             "colorbar": {
              "outlinewidth": 0,
              "ticks": ""
             }
            },
            "type": "scatterternary"
           }
          ],
          "surface": [
           {
            "colorbar": {
             "outlinewidth": 0,
             "ticks": ""
            },
            "colorscale": [
             [
              0,
              "#0d0887"
             ],
             [
              0.1111111111111111,
              "#46039f"
             ],
             [
              0.2222222222222222,
              "#7201a8"
             ],
             [
              0.3333333333333333,
              "#9c179e"
             ],
             [
              0.4444444444444444,
              "#bd3786"
             ],
             [
              0.5555555555555556,
              "#d8576b"
             ],
             [
              0.6666666666666666,
              "#ed7953"
             ],
             [
              0.7777777777777778,
              "#fb9f3a"
             ],
             [
              0.8888888888888888,
              "#fdca26"
             ],
             [
              1,
              "#f0f921"
             ]
            ],
            "type": "surface"
           }
          ],
          "table": [
           {
            "cells": {
             "fill": {
              "color": "#EBF0F8"
             },
             "line": {
              "color": "white"
             }
            },
            "header": {
             "fill": {
              "color": "#C8D4E3"
             },
             "line": {
              "color": "white"
             }
            },
            "type": "table"
           }
          ]
         },
         "layout": {
          "annotationdefaults": {
           "arrowcolor": "#2a3f5f",
           "arrowhead": 0,
           "arrowwidth": 1
          },
          "autotypenumbers": "strict",
          "coloraxis": {
           "colorbar": {
            "outlinewidth": 0,
            "ticks": ""
           }
          },
          "colorscale": {
           "diverging": [
            [
             0,
             "#8e0152"
            ],
            [
             0.1,
             "#c51b7d"
            ],
            [
             0.2,
             "#de77ae"
            ],
            [
             0.3,
             "#f1b6da"
            ],
            [
             0.4,
             "#fde0ef"
            ],
            [
             0.5,
             "#f7f7f7"
            ],
            [
             0.6,
             "#e6f5d0"
            ],
            [
             0.7,
             "#b8e186"
            ],
            [
             0.8,
             "#7fbc41"
            ],
            [
             0.9,
             "#4d9221"
            ],
            [
             1,
             "#276419"
            ]
           ],
           "sequential": [
            [
             0,
             "#0d0887"
            ],
            [
             0.1111111111111111,
             "#46039f"
            ],
            [
             0.2222222222222222,
             "#7201a8"
            ],
            [
             0.3333333333333333,
             "#9c179e"
            ],
            [
             0.4444444444444444,
             "#bd3786"
            ],
            [
             0.5555555555555556,
             "#d8576b"
            ],
            [
             0.6666666666666666,
             "#ed7953"
            ],
            [
             0.7777777777777778,
             "#fb9f3a"
            ],
            [
             0.8888888888888888,
             "#fdca26"
            ],
            [
             1,
             "#f0f921"
            ]
           ],
           "sequentialminus": [
            [
             0,
             "#0d0887"
            ],
            [
             0.1111111111111111,
             "#46039f"
            ],
            [
             0.2222222222222222,
             "#7201a8"
            ],
            [
             0.3333333333333333,
             "#9c179e"
            ],
            [
             0.4444444444444444,
             "#bd3786"
            ],
            [
             0.5555555555555556,
             "#d8576b"
            ],
            [
             0.6666666666666666,
             "#ed7953"
            ],
            [
             0.7777777777777778,
             "#fb9f3a"
            ],
            [
             0.8888888888888888,
             "#fdca26"
            ],
            [
             1,
             "#f0f921"
            ]
           ]
          },
          "colorway": [
           "#636efa",
           "#EF553B",
           "#00cc96",
           "#ab63fa",
           "#FFA15A",
           "#19d3f3",
           "#FF6692",
           "#B6E880",
           "#FF97FF",
           "#FECB52"
          ],
          "font": {
           "color": "#2a3f5f"
          },
          "geo": {
           "bgcolor": "white",
           "lakecolor": "white",
           "landcolor": "#E5ECF6",
           "showlakes": true,
           "showland": true,
           "subunitcolor": "white"
          },
          "hoverlabel": {
           "align": "left"
          },
          "hovermode": "closest",
          "mapbox": {
           "style": "light"
          },
          "paper_bgcolor": "white",
          "plot_bgcolor": "#E5ECF6",
          "polar": {
           "angularaxis": {
            "gridcolor": "white",
            "linecolor": "white",
            "ticks": ""
           },
           "bgcolor": "#E5ECF6",
           "radialaxis": {
            "gridcolor": "white",
            "linecolor": "white",
            "ticks": ""
           }
          },
          "scene": {
           "xaxis": {
            "backgroundcolor": "#E5ECF6",
            "gridcolor": "white",
            "gridwidth": 2,
            "linecolor": "white",
            "showbackground": true,
            "ticks": "",
            "zerolinecolor": "white"
           },
           "yaxis": {
            "backgroundcolor": "#E5ECF6",
            "gridcolor": "white",
            "gridwidth": 2,
            "linecolor": "white",
            "showbackground": true,
            "ticks": "",
            "zerolinecolor": "white"
           },
           "zaxis": {
            "backgroundcolor": "#E5ECF6",
            "gridcolor": "white",
            "gridwidth": 2,
            "linecolor": "white",
            "showbackground": true,
            "ticks": "",
            "zerolinecolor": "white"
           }
          },
          "shapedefaults": {
           "line": {
            "color": "#2a3f5f"
           }
          },
          "ternary": {
           "aaxis": {
            "gridcolor": "white",
            "linecolor": "white",
            "ticks": ""
           },
           "baxis": {
            "gridcolor": "white",
            "linecolor": "white",
            "ticks": ""
           },
           "bgcolor": "#E5ECF6",
           "caxis": {
            "gridcolor": "white",
            "linecolor": "white",
            "ticks": ""
           }
          },
          "title": {
           "x": 0.05
          },
          "xaxis": {
           "automargin": true,
           "gridcolor": "white",
           "linecolor": "white",
           "ticks": "",
           "title": {
            "standoff": 15
           },
           "zerolinecolor": "white",
           "zerolinewidth": 2
          },
          "yaxis": {
           "automargin": true,
           "gridcolor": "white",
           "linecolor": "white",
           "ticks": "",
           "title": {
            "standoff": 15
           },
           "zerolinecolor": "white",
           "zerolinewidth": 2
          }
         }
        },
        "title": {
         "text": "angle_left_elbow over time (Plotly)"
        },
        "xaxis": {
         "anchor": "y",
         "domain": [
          0,
          1
         ],
         "rangeslider": {
          "visible": true
         },
         "title": {
          "text": "Frame"
         }
        },
        "yaxis": {
         "anchor": "x",
         "domain": [
          0,
          1
         ],
         "title": {
          "text": "angle_left_elbow (deg)"
         }
        }
       }
      }
     },
     "metadata": {},
     "output_type": "display_data"
    },
    {
     "data": {
      "application/vnd.plotly.v1+json": {
       "config": {
        "plotlyServerURL": "https://plot.ly"
       },
       "data": [
        {
         "hovertemplate": "Frame=%{x}<br>angle_right_elbow (deg)=%{y}<extra></extra>",
         "legendgroup": "",
         "line": {
          "color": "#636efa",
          "dash": "solid"
         },
         "marker": {
          "symbol": "circle"
         },
         "mode": "lines",
         "name": "",
         "showlegend": false,
         "type": "scattergl",
         "x": {
          "bdata": "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",
          "dtype": "i2"
         },
         "xaxis": "x",
         "y": {
          "bdata": "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",
          "dtype": "f8"
         },
         "yaxis": "y"
        }
       ],
       "layout": {
        "hovermode": "x unified",
        "legend": {
         "tracegroupgap": 0
        },
        "margin": {
         "b": 40,
         "l": 40,
         "r": 20,
         "t": 60
        },
        "shapes": [
         {
          "fillcolor": "yellow",
          "line": {
           "width": 0
          },
          "opacity": 0.25,
          "type": "rect",
          "x0": 0,
          "x1": 278,
          "xref": "x",
          "y0": 0,
          "y1": 1,
          "yref": "y domain"
         },
         {
          "fillcolor": "yellow",
          "line": {
           "width": 0
          },
          "opacity": 0.25,
          "type": "rect",
          "x0": 296,
          "x1": 482,
          "xref": "x",
          "y0": 0,
          "y1": 1,
          "yref": "y domain"
         },
         {
          "fillcolor": "yellow",
          "line": {
           "width": 0
          },
          "opacity": 0.25,
          "type": "rect",
          "x0": 497,
          "x1": 545,
          "xref": "x",
          "y0": 0,
          "y1": 1,
          "yref": "y domain"
         },
         {
          "fillcolor": "yellow",
          "line": {
           "width": 0
          },
          "opacity": 0.25,
          "type": "rect",
          "x0": 559,
          "x1": 789,
          "xref": "x",
          "y0": 0,
          "y1": 1,
          "yref": "y domain"
         },
         {
          "fillcolor": "yellow",
          "line": {
           "width": 0
          },
          "opacity": 0.25,
          "type": "rect",
          "x0": 811,
          "x1": 853,
          "xref": "x",
          "y0": 0,
          "y1": 1,
          "yref": "y domain"
         },
         {
          "fillcolor": "yellow",
          "line": {
           "width": 0
          },
          "opacity": 0.25,
          "type": "rect",
          "x0": 877,
          "x1": 911,
          "xref": "x",
          "y0": 0,
          "y1": 1,
          "yref": "y domain"
         },
         {
          "fillcolor": "yellow",
          "line": {
           "width": 0
          },
          "opacity": 0.25,
          "type": "rect",
          "x0": 941,
          "x1": 972,
          "xref": "x",
          "y0": 0,
          "y1": 1,
          "yref": "y domain"
         },
         {
          "fillcolor": "yellow",
          "line": {
           "width": 0
          },
          "opacity": 0.25,
          "type": "rect",
          "x0": 1005,
          "x1": 1107,
          "xref": "x",
          "y0": 0,
          "y1": 1,
          "yref": "y domain"
         },
         {
          "fillcolor": "yellow",
          "line": {
           "width": 0
          },
          "opacity": 0.25,
          "type": "rect",
          "x0": 1114,
          "x1": 1312,
          "xref": "x",
          "y0": 0,
          "y1": 1,
          "yref": "y domain"
         },
         {
          "fillcolor": "yellow",
          "line": {
           "width": 0
          },
          "opacity": 0.25,
          "type": "rect",
          "x0": 1331,
          "x1": 1382,
          "xref": "x",
          "y0": 0,
          "y1": 1,
          "yref": "y domain"
         },
         {
          "fillcolor": "yellow",
          "line": {
           "width": 0
          },
          "opacity": 0.25,
          "type": "rect",
          "x0": 1402,
          "x1": 1646,
          "xref": "x",
          "y0": 0,
          "y1": 1,
          "yref": "y domain"
         },
         {
          "fillcolor": "yellow",
          "line": {
           "width": 0
          },
          "opacity": 0.25,
          "type": "rect",
          "x0": 1653,
          "x1": 1743,
          "xref": "x",
          "y0": 0,
          "y1": 1,
          "yref": "y domain"
         },
         {
          "fillcolor": "yellow",
          "line": {
           "width": 0
          },
          "opacity": 0.25,
          "type": "rect",
          "x0": 1762,
          "x1": 1863,
          "xref": "x",
          "y0": 0,
          "y1": 1,
          "yref": "y domain"
         },
         {
          "fillcolor": "yellow",
          "line": {
           "width": 0
          },
          "opacity": 0.25,
          "type": "rect",
          "x0": 1888,
          "x1": 1925,
          "xref": "x",
          "y0": 0,
          "y1": 1,
          "yref": "y domain"
         }
        ],
        "template": {
         "data": {
          "bar": [
           {
            "error_x": {
             "color": "#2a3f5f"
            },
            "error_y": {
             "color": "#2a3f5f"
            },
            "marker": {
             "line": {
              "color": "#E5ECF6",
              "width": 0.5
             },
             "pattern": {
              "fillmode": "overlay",
              "size": 10,
              "solidity": 0.2
             }
            },
            "type": "bar"
           }
          ],
          "barpolar": [
           {
            "marker": {
             "line": {
              "color": "#E5ECF6",
              "width": 0.5
             },
             "pattern": {
              "fillmode": "overlay",
              "size": 10,
              "solidity": 0.2
             }
            },
            "type": "barpolar"
           }
          ],
          "carpet": [
           {
            "aaxis": {
             "endlinecolor": "#2a3f5f",
             "gridcolor": "white",
             "linecolor": "white",
             "minorgridcolor": "white",
             "startlinecolor": "#2a3f5f"
            },
            "baxis": {
             "endlinecolor": "#2a3f5f",
             "gridcolor": "white",
             "linecolor": "white",
             "minorgridcolor": "white",
             "startlinecolor": "#2a3f5f"
            },
            "type": "carpet"
           }
          ],
          "choropleth": [
           {
            "colorbar": {
             "outlinewidth": 0,
             "ticks": ""
            },
            "type": "choropleth"
           }
          ],
          "contour": [
           {
            "colorbar": {
             "outlinewidth": 0,
             "ticks": ""
            },
            "colorscale": [
             [
              0,
              "#0d0887"
             ],
             [
              0.1111111111111111,
              "#46039f"
             ],
             [
              0.2222222222222222,
              "#7201a8"
             ],
             [
              0.3333333333333333,
              "#9c179e"
             ],
             [
              0.4444444444444444,
              "#bd3786"
             ],
             [
              0.5555555555555556,
              "#d8576b"
             ],
             [
              0.6666666666666666,
              "#ed7953"
             ],
             [
              0.7777777777777778,
              "#fb9f3a"
             ],
             [
              0.8888888888888888,
              "#fdca26"
             ],
             [
              1,
              "#f0f921"
             ]
            ],
            "type": "contour"
           }
          ],
          "contourcarpet": [
           {
            "colorbar": {
             "outlinewidth": 0,
             "ticks": ""
            },
            "type": "contourcarpet"
           }
          ],
          "heatmap": [
           {
            "colorbar": {
             "outlinewidth": 0,
             "ticks": ""
            },
            "colorscale": [
             [
              0,
              "#0d0887"
             ],
             [
              0.1111111111111111,
              "#46039f"
             ],
             [
              0.2222222222222222,
              "#7201a8"
             ],
             [
              0.3333333333333333,
              "#9c179e"
             ],
             [
              0.4444444444444444,
              "#bd3786"
             ],
             [
              0.5555555555555556,
              "#d8576b"
             ],
             [
              0.6666666666666666,
              "#ed7953"
             ],
             [
              0.7777777777777778,
              "#fb9f3a"
             ],
             [
              0.8888888888888888,
              "#fdca26"
             ],
             [
              1,
              "#f0f921"
             ]
            ],
            "type": "heatmap"
           }
          ],
          "histogram": [
           {
            "marker": {
             "pattern": {
              "fillmode": "overlay",
              "size": 10,
              "solidity": 0.2
             }
            },
            "type": "histogram"
           }
          ],
          "histogram2d": [
           {
            "colorbar": {
             "outlinewidth": 0,
             "ticks": ""
            },
            "colorscale": [
             [
              0,
              "#0d0887"
             ],
             [
              0.1111111111111111,
              "#46039f"
             ],
             [
              0.2222222222222222,
              "#7201a8"
             ],
             [
              0.3333333333333333,
              "#9c179e"
             ],
             [
              0.4444444444444444,
              "#bd3786"
             ],
             [
              0.5555555555555556,
              "#d8576b"
             ],
             [
              0.6666666666666666,
              "#ed7953"
             ],
             [
              0.7777777777777778,
              "#fb9f3a"
             ],
             [
              0.8888888888888888,
              "#fdca26"
             ],
             [
              1,
              "#f0f921"
             ]
            ],
            "type": "histogram2d"
           }
          ],
          "histogram2dcontour": [
           {
            "colorbar": {
             "outlinewidth": 0,
             "ticks": ""
            },
            "colorscale": [
             [
              0,
              "#0d0887"
             ],
             [
              0.1111111111111111,
              "#46039f"
             ],
             [
              0.2222222222222222,
              "#7201a8"
             ],
             [
              0.3333333333333333,
              "#9c179e"
             ],
             [
              0.4444444444444444,
              "#bd3786"
             ],
             [
              0.5555555555555556,
              "#d8576b"
             ],
             [
              0.6666666666666666,
              "#ed7953"
             ],
             [
              0.7777777777777778,
              "#fb9f3a"
             ],
             [
              0.8888888888888888,
              "#fdca26"
             ],
             [
              1,
              "#f0f921"
             ]
            ],
            "type": "histogram2dcontour"
           }
          ],
          "mesh3d": [
           {
            "colorbar": {
             "outlinewidth": 0,
             "ticks": ""
            },
            "type": "mesh3d"
           }
          ],
          "parcoords": [
           {
            "line": {
             "colorbar": {
              "outlinewidth": 0,
              "ticks": ""
             }
            },
            "type": "parcoords"
           }
          ],
          "pie": [
           {
            "automargin": true,
            "type": "pie"
           }
          ],
          "scatter": [
           {
            "fillpattern": {
             "fillmode": "overlay",
             "size": 10,
             "solidity": 0.2
            },
            "type": "scatter"
           }
          ],
          "scatter3d": [
           {
            "line": {
             "colorbar": {
              "outlinewidth": 0,
              "ticks": ""
             }
            },
            "marker": {
             "colorbar": {
              "outlinewidth": 0,
              "ticks": ""
             }
            },
            "type": "scatter3d"
           }
          ],
          "scattercarpet": [
           {
            "marker": {
             "colorbar": {
              "outlinewidth": 0,
              "ticks": ""
             }
            },
            "type": "scattercarpet"
           }
          ],
          "scattergeo": [
           {
            "marker": {
             "colorbar": {
              "outlinewidth": 0,
              "ticks": ""
             }
            },
            "type": "scattergeo"
           }
          ],
          "scattergl": [
           {
            "marker": {
             "colorbar": {
              "outlinewidth": 0,
              "ticks": ""
             }
            },
            "type": "scattergl"
           }
          ],
          "scattermap": [
           {
            "marker": {
             "colorbar": {
              "outlinewidth": 0,
              "ticks": ""
             }
            },
            "type": "scattermap"
           }
          ],
          "scattermapbox": [
           {
            "marker": {
             "colorbar": {
              "outlinewidth": 0,
              "ticks": ""
             }
            },
            "type": "scattermapbox"
           }
          ],
          "scatterpolar": [
           {
            "marker": {
             "colorbar": {
              "outlinewidth": 0,
              "ticks": ""
             }
            },
            "type": "scatterpolar"
           }
          ],
          "scatterpolargl": [
           {
            "marker": {
             "colorbar": {
              "outlinewidth": 0,
              "ticks": ""
             }
            },
            "type": "scatterpolargl"
           }
          ],
          "scatterternary": [
           {
            "marker": {
             "colorbar": {
              "outlinewidth": 0,
              "ticks": ""
             }
            },
            "type": "scatterternary"
           }
          ],
          "surface": [
           {
            "colorbar": {
             "outlinewidth": 0,
             "ticks": ""
            },
            "colorscale": [
             [
              0,
              "#0d0887"
             ],
             [
              0.1111111111111111,
              "#46039f"
             ],
             [
              0.2222222222222222,
              "#7201a8"
             ],
             [
              0.3333333333333333,
              "#9c179e"
             ],
             [
              0.4444444444444444,
              "#bd3786"
             ],
             [
              0.5555555555555556,
              "#d8576b"
             ],
             [
              0.6666666666666666,
              "#ed7953"
             ],
             [
              0.7777777777777778,
              "#fb9f3a"
             ],
             [
              0.8888888888888888,
              "#fdca26"
             ],
             [
              1,
              "#f0f921"
             ]
            ],
            "type": "surface"
           }
          ],
          "table": [
           {
            "cells": {
             "fill": {
              "color": "#EBF0F8"
             },
             "line": {
              "color": "white"
             }
            },
            "header": {
             "fill": {
              "color": "#C8D4E3"
             },
             "line": {
              "color": "white"
             }
            },
            "type": "table"
           }
          ]
         },
         "layout": {
          "annotationdefaults": {
           "arrowcolor": "#2a3f5f",
           "arrowhead": 0,
           "arrowwidth": 1
          },
          "autotypenumbers": "strict",
          "coloraxis": {
           "colorbar": {
            "outlinewidth": 0,
            "ticks": ""
           }
          },
          "colorscale": {
           "diverging": [
            [
             0,
             "#8e0152"
            ],
            [
             0.1,
             "#c51b7d"
            ],
            [
             0.2,
             "#de77ae"
            ],
            [
             0.3,
             "#f1b6da"
            ],
            [
             0.4,
             "#fde0ef"
            ],
            [
             0.5,
             "#f7f7f7"
            ],
            [
             0.6,
             "#e6f5d0"
            ],
            [
             0.7,
             "#b8e186"
            ],
            [
             0.8,
             "#7fbc41"
            ],
            [
             0.9,
             "#4d9221"
            ],
            [
             1,
             "#276419"
            ]
           ],
           "sequential": [
            [
             0,
             "#0d0887"
            ],
            [
             0.1111111111111111,
             "#46039f"
            ],
            [
             0.2222222222222222,
             "#7201a8"
            ],
            [
             0.3333333333333333,
             "#9c179e"
            ],
            [
             0.4444444444444444,
             "#bd3786"
            ],
            [
             0.5555555555555556,
             "#d8576b"
            ],
            [
             0.6666666666666666,
             "#ed7953"
            ],
            [
             0.7777777777777778,
             "#fb9f3a"
            ],
            [
             0.8888888888888888,
             "#fdca26"
            ],
            [
             1,
             "#f0f921"
            ]
           ],
           "sequentialminus": [
            [
             0,
             "#0d0887"
            ],
            [
             0.1111111111111111,
             "#46039f"
            ],
            [
             0.2222222222222222,
             "#7201a8"
            ],
            [
             0.3333333333333333,
             "#9c179e"
            ],
            [
             0.4444444444444444,
             "#bd3786"
            ],
            [
             0.5555555555555556,
             "#d8576b"
            ],
            [
             0.6666666666666666,
             "#ed7953"
            ],
            [
             0.7777777777777778,
             "#fb9f3a"
            ],
            [
             0.8888888888888888,
             "#fdca26"
            ],
            [
             1,
             "#f0f921"
            ]
           ]
          },
          "colorway": [
           "#636efa",
           "#EF553B",
           "#00cc96",
           "#ab63fa",
           "#FFA15A",
           "#19d3f3",
           "#FF6692",
           "#B6E880",
           "#FF97FF",
           "#FECB52"
          ],
          "font": {
           "color": "#2a3f5f"
          },
          "geo": {
           "bgcolor": "white",
           "lakecolor": "white",
           "landcolor": "#E5ECF6",
           "showlakes": true,
           "showland": true,
           "subunitcolor": "white"
          },
          "hoverlabel": {
           "align": "left"
          },
          "hovermode": "closest",
          "mapbox": {
           "style": "light"
          },
          "paper_bgcolor": "white",
          "plot_bgcolor": "#E5ECF6",
          "polar": {
           "angularaxis": {
            "gridcolor": "white",
            "linecolor": "white",
            "ticks": ""
           },
           "bgcolor": "#E5ECF6",
           "radialaxis": {
            "gridcolor": "white",
            "linecolor": "white",
            "ticks": ""
           }
          },
          "scene": {
           "xaxis": {
            "backgroundcolor": "#E5ECF6",
            "gridcolor": "white",
            "gridwidth": 2,
            "linecolor": "white",
            "showbackground": true,
            "ticks": "",
            "zerolinecolor": "white"
           },
           "yaxis": {
            "backgroundcolor": "#E5ECF6",
            "gridcolor": "white",
            "gridwidth": 2,
            "linecolor": "white",
            "showbackground": true,
            "ticks": "",
            "zerolinecolor": "white"
           },
           "zaxis": {
            "backgroundcolor": "#E5ECF6",
            "gridcolor": "white",
            "gridwidth": 2,
            "linecolor": "white",
            "showbackground": true,
            "ticks": "",
            "zerolinecolor": "white"
           }
          },
          "shapedefaults": {
           "line": {
            "color": "#2a3f5f"
           }
          },
          "ternary": {
           "aaxis": {
            "gridcolor": "white",
            "linecolor": "white",
            "ticks": ""
           },
           "baxis": {
            "gridcolor": "white",
            "linecolor": "white",
            "ticks": ""
           },
           "bgcolor": "#E5ECF6",
           "caxis": {
            "gridcolor": "white",
            "linecolor": "white",
            "ticks": ""
           }
          },
          "title": {
           "x": 0.05
          },
          "xaxis": {
           "automargin": true,
           "gridcolor": "white",
           "linecolor": "white",
           "ticks": "",
           "title": {
            "standoff": 15
           },
           "zerolinecolor": "white",
           "zerolinewidth": 2
          },
          "yaxis": {
           "automargin": true,
           "gridcolor": "white",
           "linecolor": "white",
           "ticks": "",
           "title": {
            "standoff": 15
           },
           "zerolinecolor": "white",
           "zerolinewidth": 2
          }
         }
        },
        "title": {
         "text": "angle_right_elbow over time (Plotly)"
        },
        "xaxis": {
         "anchor": "y",
         "domain": [
          0,
          1
         ],
         "rangeslider": {
          "visible": true
         },
         "title": {
          "text": "Frame"
         }
        },
        "yaxis": {
         "anchor": "x",
         "domain": [
          0,
          1
         ],
         "title": {
          "text": "angle_right_elbow (deg)"
         }
        }
       }
      }
     },
     "metadata": {},
     "output_type": "display_data"
    },
    {
     "data": {
      "application/vnd.plotly.v1+json": {
       "config": {
        "plotlyServerURL": "https://plot.ly"
       },
       "data": [
        {
         "hovertemplate": "Frame=%{x}<br>angle_left_knee (deg)=%{y}<extra></extra>",
         "legendgroup": "",
         "line": {
          "color": "#636efa",
          "dash": "solid"
         },
         "marker": {
          "symbol": "circle"
         },
         "mode": "lines",
         "name": "",
         "showlegend": false,
         "type": "scattergl",
         "x": {
          "bdata": "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",
          "dtype": "i2"
         },
         "xaxis": "x",
         "y": {
          "bdata": "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",
          "dtype": "f8"
         },
         "yaxis": "y"
        }
       ],
       "layout": {
        "hovermode": "x unified",
        "legend": {
         "tracegroupgap": 0
        },
        "margin": {
         "b": 40,
         "l": 40,
         "r": 20,
         "t": 60
        },
        "shapes": [
         {
          "fillcolor": "orange",
          "line": {
           "width": 0
          },
          "opacity": 0.25,
          "type": "rect",
          "x0": 0,
          "x1": 1925,
          "xref": "x",
          "y0": 0,
          "y1": 1,
          "yref": "y domain"
         }
        ],
        "template": {
         "data": {
          "bar": [
           {
            "error_x": {
             "color": "#2a3f5f"
            },
            "error_y": {
             "color": "#2a3f5f"
            },
            "marker": {
             "line": {
              "color": "#E5ECF6",
              "width": 0.5
             },
             "pattern": {
              "fillmode": "overlay",
              "size": 10,
              "solidity": 0.2
             }
            },
            "type": "bar"
           }
          ],
          "barpolar": [
           {
            "marker": {
             "line": {
              "color": "#E5ECF6",
              "width": 0.5
             },
             "pattern": {
              "fillmode": "overlay",
              "size": 10,
              "solidity": 0.2
             }
            },
            "type": "barpolar"
           }
          ],
          "carpet": [
           {
            "aaxis": {
             "endlinecolor": "#2a3f5f",
             "gridcolor": "white",
             "linecolor": "white",
             "minorgridcolor": "white",
             "startlinecolor": "#2a3f5f"
            },
            "baxis": {
             "endlinecolor": "#2a3f5f",
             "gridcolor": "white",
             "linecolor": "white",
             "minorgridcolor": "white",
             "startlinecolor": "#2a3f5f"
            },
            "type": "carpet"
           }
          ],
          "choropleth": [
           {
            "colorbar": {
             "outlinewidth": 0,
             "ticks": ""
            },
            "type": "choropleth"
           }
          ],
          "contour": [
           {
            "colorbar": {
             "outlinewidth": 0,
             "ticks": ""
            },
            "colorscale": [
             [
              0,
              "#0d0887"
             ],
             [
              0.1111111111111111,
              "#46039f"
             ],
             [
              0.2222222222222222,
              "#7201a8"
             ],
             [
              0.3333333333333333,
              "#9c179e"
             ],
             [
              0.4444444444444444,
              "#bd3786"
             ],
             [
              0.5555555555555556,
              "#d8576b"
             ],
             [
              0.6666666666666666,
              "#ed7953"
             ],
             [
              0.7777777777777778,
              "#fb9f3a"
             ],
             [
              0.8888888888888888,
              "#fdca26"
             ],
             [
              1,
              "#f0f921"
             ]
            ],
            "type": "contour"
           }
          ],
          "contourcarpet": [
           {
            "colorbar": {
             "outlinewidth": 0,
             "ticks": ""
            },
            "type": "contourcarpet"
           }
          ],
          "heatmap": [
           {
            "colorbar": {
             "outlinewidth": 0,
             "ticks": ""
            },
            "colorscale": [
             [
              0,
              "#0d0887"
             ],
             [
              0.1111111111111111,
              "#46039f"
             ],
             [
              0.2222222222222222,
              "#7201a8"
             ],
             [
              0.3333333333333333,
              "#9c179e"
             ],
             [
              0.4444444444444444,
              "#bd3786"
             ],
             [
              0.5555555555555556,
              "#d8576b"
             ],
             [
              0.6666666666666666,
              "#ed7953"
             ],
             [
              0.7777777777777778,
              "#fb9f3a"
             ],
             [
              0.8888888888888888,
              "#fdca26"
             ],
             [
              1,
              "#f0f921"
             ]
            ],
            "type": "heatmap"
           }
          ],
          "histogram": [
           {
            "marker": {
             "pattern": {
              "fillmode": "overlay",
              "size": 10,
              "solidity": 0.2
             }
            },
            "type": "histogram"
           }
          ],
          "histogram2d": [
           {
            "colorbar": {
             "outlinewidth": 0,
             "ticks": ""
            },
            "colorscale": [
             [
              0,
              "#0d0887"
             ],
             [
              0.1111111111111111,
              "#46039f"
             ],
             [
              0.2222222222222222,
              "#7201a8"
             ],
             [
              0.3333333333333333,
              "#9c179e"
             ],
             [
              0.4444444444444444,
              "#bd3786"
             ],
             [
              0.5555555555555556,
              "#d8576b"
             ],
             [
              0.6666666666666666,
              "#ed7953"
             ],
             [
              0.7777777777777778,
              "#fb9f3a"
             ],
             [
              0.8888888888888888,
              "#fdca26"
             ],
             [
              1,
              "#f0f921"
             ]
            ],
            "type": "histogram2d"
           }
          ],
          "histogram2dcontour": [
           {
            "colorbar": {
             "outlinewidth": 0,
             "ticks": ""
            },
            "colorscale": [
             [
              0,
              "#0d0887"
             ],
             [
              0.1111111111111111,
              "#46039f"
             ],
             [
              0.2222222222222222,
              "#7201a8"
             ],
             [
              0.3333333333333333,
              "#9c179e"
             ],
             [
              0.4444444444444444,
              "#bd3786"
             ],
             [
              0.5555555555555556,
              "#d8576b"
             ],
             [
              0.6666666666666666,
              "#ed7953"
             ],
             [
              0.7777777777777778,
              "#fb9f3a"
             ],
             [
              0.8888888888888888,
              "#fdca26"
             ],
             [
              1,
              "#f0f921"
             ]
            ],
            "type": "histogram2dcontour"
           }
          ],
          "mesh3d": [
           {
            "colorbar": {
             "outlinewidth": 0,
             "ticks": ""
            },
            "type": "mesh3d"
           }
          ],
          "parcoords": [
           {
            "line": {
             "colorbar": {
              "outlinewidth": 0,
              "ticks": ""
             }
            },
            "type": "parcoords"
           }
          ],
          "pie": [
           {
            "automargin": true,
            "type": "pie"
           }
          ],
          "scatter": [
           {
            "fillpattern": {
             "fillmode": "overlay",
             "size": 10,
             "solidity": 0.2
            },
            "type": "scatter"
           }
          ],
          "scatter3d": [
           {
            "line": {
             "colorbar": {
              "outlinewidth": 0,
              "ticks": ""
             }
            },
            "marker": {
             "colorbar": {
              "outlinewidth": 0,
              "ticks": ""
             }
            },
            "type": "scatter3d"
           }
          ],
          "scattercarpet": [
           {
            "marker": {
             "colorbar": {
              "outlinewidth": 0,
              "ticks": ""
             }
            },
            "type": "scattercarpet"
           }
          ],
          "scattergeo": [
           {
            "marker": {
             "colorbar": {
              "outlinewidth": 0,
              "ticks": ""
             }
            },
            "type": "scattergeo"
           }
          ],
          "scattergl": [
           {
            "marker": {
             "colorbar": {
              "outlinewidth": 0,
              "ticks": ""
             }
            },
            "type": "scattergl"
           }
          ],
          "scattermap": [
           {
            "marker": {
             "colorbar": {
              "outlinewidth": 0,
              "ticks": ""
             }
            },
            "type": "scattermap"
           }
          ],
          "scattermapbox": [
           {
            "marker": {
             "colorbar": {
              "outlinewidth": 0,
              "ticks": ""
             }
            },
            "type": "scattermapbox"
           }
          ],
          "scatterpolar": [
           {
            "marker": {
             "colorbar": {
              "outlinewidth": 0,
              "ticks": ""
             }
            },
            "type": "scatterpolar"
           }
          ],
          "scatterpolargl": [
           {
            "marker": {
             "colorbar": {
              "outlinewidth": 0,
              "ticks": ""
             }
            },
            "type": "scatterpolargl"
           }
          ],
          "scatterternary": [
           {
            "marker": {
             "colorbar": {
              "outlinewidth": 0,
              "ticks": ""
             }
            },
            "type": "scatterternary"
           }
          ],
          "surface": [
           {
            "colorbar": {
             "outlinewidth": 0,
             "ticks": ""
            },
            "colorscale": [
             [
              0,
              "#0d0887"
             ],
             [
              0.1111111111111111,
              "#46039f"
             ],
             [
              0.2222222222222222,
              "#7201a8"
             ],
             [
              0.3333333333333333,
              "#9c179e"
             ],
             [
              0.4444444444444444,
              "#bd3786"
             ],
             [
              0.5555555555555556,
              "#d8576b"
             ],
             [
              0.6666666666666666,
              "#ed7953"
             ],
             [
              0.7777777777777778,
              "#fb9f3a"
             ],
             [
              0.8888888888888888,
              "#fdca26"
             ],
             [
              1,
              "#f0f921"
             ]
            ],
            "type": "surface"
           }
          ],
          "table": [
           {
            "cells": {
             "fill": {
              "color": "#EBF0F8"
             },
             "line": {
              "color": "white"
             }
            },
            "header": {
             "fill": {
              "color": "#C8D4E3"
             },
             "line": {
              "color": "white"
             }
            },
            "type": "table"
           }
          ]
         },
         "layout": {
          "annotationdefaults": {
           "arrowcolor": "#2a3f5f",
           "arrowhead": 0,
           "arrowwidth": 1
          },
          "autotypenumbers": "strict",
          "coloraxis": {
           "colorbar": {
            "outlinewidth": 0,
            "ticks": ""
           }
          },
          "colorscale": {
           "diverging": [
            [
             0,
             "#8e0152"
            ],
            [
             0.1,
             "#c51b7d"
            ],
            [
             0.2,
             "#de77ae"
            ],
            [
             0.3,
             "#f1b6da"
            ],
            [
             0.4,
             "#fde0ef"
            ],
            [
             0.5,
             "#f7f7f7"
            ],
            [
             0.6,
             "#e6f5d0"
            ],
            [
             0.7,
             "#b8e186"
            ],
            [
             0.8,
             "#7fbc41"
            ],
            [
             0.9,
             "#4d9221"
            ],
            [
             1,
             "#276419"
            ]
           ],
           "sequential": [
            [
             0,
             "#0d0887"
            ],
            [
             0.1111111111111111,
             "#46039f"
            ],
            [
             0.2222222222222222,
             "#7201a8"
            ],
            [
             0.3333333333333333,
             "#9c179e"
            ],
            [
             0.4444444444444444,
             "#bd3786"
            ],
            [
             0.5555555555555556,
             "#d8576b"
            ],
            [
             0.6666666666666666,
             "#ed7953"
            ],
            [
             0.7777777777777778,
             "#fb9f3a"
            ],
            [
             0.8888888888888888,
             "#fdca26"
            ],
            [
             1,
             "#f0f921"
            ]
           ],
           "sequentialminus": [
            [
             0,
             "#0d0887"
            ],
            [
             0.1111111111111111,
             "#46039f"
            ],
            [
             0.2222222222222222,
             "#7201a8"
            ],
            [
             0.3333333333333333,
             "#9c179e"
            ],
            [
             0.4444444444444444,
             "#bd3786"
            ],
            [
             0.5555555555555556,
             "#d8576b"
            ],
            [
             0.6666666666666666,
             "#ed7953"
            ],
            [
             0.7777777777777778,
             "#fb9f3a"
            ],
            [
             0.8888888888888888,
             "#fdca26"
            ],
            [
             1,
             "#f0f921"
            ]
           ]
          },
          "colorway": [
           "#636efa",
           "#EF553B",
           "#00cc96",
           "#ab63fa",
           "#FFA15A",
           "#19d3f3",
           "#FF6692",
           "#B6E880",
           "#FF97FF",
           "#FECB52"
          ],
          "font": {
           "color": "#2a3f5f"
          },
          "geo": {
           "bgcolor": "white",
           "lakecolor": "white",
           "landcolor": "#E5ECF6",
           "showlakes": true,
           "showland": true,
           "subunitcolor": "white"
          },
          "hoverlabel": {
           "align": "left"
          },
          "hovermode": "closest",
          "mapbox": {
           "style": "light"
          },
          "paper_bgcolor": "white",
          "plot_bgcolor": "#E5ECF6",
          "polar": {
           "angularaxis": {
            "gridcolor": "white",
            "linecolor": "white",
            "ticks": ""
           },
           "bgcolor": "#E5ECF6",
           "radialaxis": {
            "gridcolor": "white",
            "linecolor": "white",
            "ticks": ""
           }
          },
          "scene": {
           "xaxis": {
            "backgroundcolor": "#E5ECF6",
            "gridcolor": "white",
            "gridwidth": 2,
            "linecolor": "white",
            "showbackground": true,
            "ticks": "",
            "zerolinecolor": "white"
           },
           "yaxis": {
            "backgroundcolor": "#E5ECF6",
            "gridcolor": "white",
            "gridwidth": 2,
            "linecolor": "white",
            "showbackground": true,
            "ticks": "",
            "zerolinecolor": "white"
           },
           "zaxis": {
            "backgroundcolor": "#E5ECF6",
            "gridcolor": "white",
            "gridwidth": 2,
            "linecolor": "white",
            "showbackground": true,
            "ticks": "",
            "zerolinecolor": "white"
           }
          },
          "shapedefaults": {
           "line": {
            "color": "#2a3f5f"
           }
          },
          "ternary": {
           "aaxis": {
            "gridcolor": "white",
            "linecolor": "white",
            "ticks": ""
           },
           "baxis": {
            "gridcolor": "white",
            "linecolor": "white",
            "ticks": ""
           },
           "bgcolor": "#E5ECF6",
           "caxis": {
            "gridcolor": "white",
            "linecolor": "white",
            "ticks": ""
           }
          },
          "title": {
           "x": 0.05
          },
          "xaxis": {
           "automargin": true,
           "gridcolor": "white",
           "linecolor": "white",
           "ticks": "",
           "title": {
            "standoff": 15
           },
           "zerolinecolor": "white",
           "zerolinewidth": 2
          },
          "yaxis": {
           "automargin": true,
           "gridcolor": "white",
           "linecolor": "white",
           "ticks": "",
           "title": {
            "standoff": 15
           },
           "zerolinecolor": "white",
           "zerolinewidth": 2
          }
         }
        },
        "title": {
         "text": "angle_left_knee over time (Plotly)"
        },
        "xaxis": {
         "anchor": "y",
         "domain": [
          0,
          1
         ],
         "rangeslider": {
          "visible": true
         },
         "title": {
          "text": "Frame"
         }
        },
        "yaxis": {
         "anchor": "x",
         "domain": [
          0,
          1
         ],
         "title": {
          "text": "angle_left_knee (deg)"
         }
        }
       }
      }
     },
     "metadata": {},
     "output_type": "display_data"
    },
    {
     "data": {
      "application/vnd.plotly.v1+json": {
       "config": {
        "plotlyServerURL": "https://plot.ly"
       },
       "data": [
        {
         "hovertemplate": "Frame=%{x}<br>angle_right_knee (deg)=%{y}<extra></extra>",
         "legendgroup": "",
         "line": {
          "color": "#636efa",
          "dash": "solid"
         },
         "marker": {
          "symbol": "circle"
         },
         "mode": "lines",
         "name": "",
         "showlegend": false,
         "type": "scattergl",
         "x": {
          "bdata": "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",
          "dtype": "i2"
         },
         "xaxis": "x",
         "y": {
          "bdata": "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",
          "dtype": "f8"
         },
         "yaxis": "y"
        }
       ],
       "layout": {
        "hovermode": "x unified",
        "legend": {
         "tracegroupgap": 0
        },
        "margin": {
         "b": 40,
         "l": 40,
         "r": 20,
         "t": 60
        },
        "shapes": [
         {
          "fillcolor": "yellow",
          "line": {
           "width": 0
          },
          "opacity": 0.25,
          "type": "rect",
          "x0": 0,
          "x1": 32,
          "xref": "x",
          "y0": 0,
          "y1": 1,
          "yref": "y domain"
         },
         {
          "fillcolor": "yellow",
          "line": {
           "width": 0
          },
          "opacity": 0.25,
          "type": "rect",
          "x0": 91,
          "x1": 105,
          "xref": "x",
          "y0": 0,
          "y1": 1,
          "yref": "y domain"
         },
         {
          "fillcolor": "yellow",
          "line": {
           "width": 0
          },
          "opacity": 0.25,
          "type": "rect",
          "x0": 147,
          "x1": 172,
          "xref": "x",
          "y0": 0,
          "y1": 1,
          "yref": "y domain"
         }
        ],
        "template": {
         "data": {
          "bar": [
           {
            "error_x": {
             "color": "#2a3f5f"
            },
            "error_y": {
             "color": "#2a3f5f"
            },
            "marker": {
             "line": {
              "color": "#E5ECF6",
              "width": 0.5
             },
             "pattern": {
              "fillmode": "overlay",
              "size": 10,
              "solidity": 0.2
             }
            },
            "type": "bar"
           }
          ],
          "barpolar": [
           {
            "marker": {
             "line": {
              "color": "#E5ECF6",
              "width": 0.5
             },
             "pattern": {
              "fillmode": "overlay",
              "size": 10,
              "solidity": 0.2
             }
            },
            "type": "barpolar"
           }
          ],
          "carpet": [
           {
            "aaxis": {
             "endlinecolor": "#2a3f5f",
             "gridcolor": "white",
             "linecolor": "white",
             "minorgridcolor": "white",
             "startlinecolor": "#2a3f5f"
            },
            "baxis": {
             "endlinecolor": "#2a3f5f",
             "gridcolor": "white",
             "linecolor": "white",
             "minorgridcolor": "white",
             "startlinecolor": "#2a3f5f"
            },
            "type": "carpet"
           }
          ],
          "choropleth": [
           {
            "colorbar": {
             "outlinewidth": 0,
             "ticks": ""
            },
            "type": "choropleth"
           }
          ],
          "contour": [
           {
            "colorbar": {
             "outlinewidth": 0,
             "ticks": ""
            },
            "colorscale": [
             [
              0,
              "#0d0887"
             ],
             [
              0.1111111111111111,
              "#46039f"
             ],
             [
              0.2222222222222222,
              "#7201a8"
             ],
             [
              0.3333333333333333,
              "#9c179e"
             ],
             [
              0.4444444444444444,
              "#bd3786"
             ],
             [
              0.5555555555555556,
              "#d8576b"
             ],
             [
              0.6666666666666666,
              "#ed7953"
             ],
             [
              0.7777777777777778,
              "#fb9f3a"
             ],
             [
              0.8888888888888888,
              "#fdca26"
             ],
             [
              1,
              "#f0f921"
             ]
            ],
            "type": "contour"
           }
          ],
          "contourcarpet": [
           {
            "colorbar": {
             "outlinewidth": 0,
             "ticks": ""
            },
            "type": "contourcarpet"
           }
          ],
          "heatmap": [
           {
            "colorbar": {
             "outlinewidth": 0,
             "ticks": ""
            },
            "colorscale": [
             [
              0,
              "#0d0887"
             ],
             [
              0.1111111111111111,
              "#46039f"
             ],
             [
              0.2222222222222222,
              "#7201a8"
             ],
             [
              0.3333333333333333,
              "#9c179e"
             ],
             [
              0.4444444444444444,
              "#bd3786"
             ],
             [
              0.5555555555555556,
              "#d8576b"
             ],
             [
              0.6666666666666666,
              "#ed7953"
             ],
             [
              0.7777777777777778,
              "#fb9f3a"
             ],
             [
              0.8888888888888888,
              "#fdca26"
             ],
             [
              1,
              "#f0f921"
             ]
            ],
            "type": "heatmap"
           }
          ],
          "histogram": [
           {
            "marker": {
             "pattern": {
              "fillmode": "overlay",
              "size": 10,
              "solidity": 0.2
             }
            },
            "type": "histogram"
           }
          ],
          "histogram2d": [
           {
            "colorbar": {
             "outlinewidth": 0,
             "ticks": ""
            },
            "colorscale": [
             [
              0,
              "#0d0887"
             ],
             [
              0.1111111111111111,
              "#46039f"
             ],
             [
              0.2222222222222222,
              "#7201a8"
             ],
             [
              0.3333333333333333,
              "#9c179e"
             ],
             [
              0.4444444444444444,
              "#bd3786"
             ],
             [
              0.5555555555555556,
              "#d8576b"
             ],
             [
              0.6666666666666666,
              "#ed7953"
             ],
             [
              0.7777777777777778,
              "#fb9f3a"
             ],
             [
              0.8888888888888888,
              "#fdca26"
             ],
             [
              1,
              "#f0f921"
             ]
            ],
            "type": "histogram2d"
           }
          ],
          "histogram2dcontour": [
           {
            "colorbar": {
             "outlinewidth": 0,
             "ticks": ""
            },
            "colorscale": [
             [
              0,
              "#0d0887"
             ],
             [
              0.1111111111111111,
              "#46039f"
             ],
             [
              0.2222222222222222,
              "#7201a8"
             ],
             [
              0.3333333333333333,
              "#9c179e"
             ],
             [
              0.4444444444444444,
              "#bd3786"
             ],
             [
              0.5555555555555556,
              "#d8576b"
             ],
             [
              0.6666666666666666,
              "#ed7953"
             ],
             [
              0.7777777777777778,
              "#fb9f3a"
             ],
             [
              0.8888888888888888,
              "#fdca26"
             ],
             [
              1,
              "#f0f921"
             ]
            ],
            "type": "histogram2dcontour"
           }
          ],
          "mesh3d": [
           {
            "colorbar": {
             "outlinewidth": 0,
             "ticks": ""
            },
            "type": "mesh3d"
           }
          ],
          "parcoords": [
           {
            "line": {
             "colorbar": {
              "outlinewidth": 0,
              "ticks": ""
             }
            },
            "type": "parcoords"
           }
          ],
          "pie": [
           {
            "automargin": true,
            "type": "pie"
           }
          ],
          "scatter": [
           {
            "fillpattern": {
             "fillmode": "overlay",
             "size": 10,
             "solidity": 0.2
            },
            "type": "scatter"
           }
          ],
          "scatter3d": [
           {
            "line": {
             "colorbar": {
              "outlinewidth": 0,
              "ticks": ""
             }
            },
            "marker": {
             "colorbar": {
              "outlinewidth": 0,
              "ticks": ""
             }
            },
            "type": "scatter3d"
           }
          ],
          "scattercarpet": [
           {
            "marker": {
             "colorbar": {
              "outlinewidth": 0,
              "ticks": ""
             }
            },
            "type": "scattercarpet"
           }
          ],
          "scattergeo": [
           {
            "marker": {
             "colorbar": {
              "outlinewidth": 0,
              "ticks": ""
             }
            },
            "type": "scattergeo"
           }
          ],
          "scattergl": [
           {
            "marker": {
             "colorbar": {
              "outlinewidth": 0,
              "ticks": ""
             }
            },
            "type": "scattergl"
           }
          ],
          "scattermap": [
           {
            "marker": {
             "colorbar": {
              "outlinewidth": 0,
              "ticks": ""
             }
            },
            "type": "scattermap"
           }
          ],
          "scattermapbox": [
           {
            "marker": {
             "colorbar": {
              "outlinewidth": 0,
              "ticks": ""
             }
            },
            "type": "scattermapbox"
           }
          ],
          "scatterpolar": [
           {
            "marker": {
             "colorbar": {
              "outlinewidth": 0,
              "ticks": ""
             }
            },
            "type": "scatterpolar"
           }
          ],
          "scatterpolargl": [
           {
            "marker": {
             "colorbar": {
              "outlinewidth": 0,
              "ticks": ""
             }
            },
            "type": "scatterpolargl"
           }
          ],
          "scatterternary": [
           {
            "marker": {
             "colorbar": {
              "outlinewidth": 0,
              "ticks": ""
             }
            },
            "type": "scatterternary"
           }
          ],
          "surface": [
           {
            "colorbar": {
             "outlinewidth": 0,
             "ticks": ""
            },
            "colorscale": [
             [
              0,
              "#0d0887"
             ],
             [
              0.1111111111111111,
              "#46039f"
             ],
             [
              0.2222222222222222,
              "#7201a8"
             ],
             [
              0.3333333333333333,
              "#9c179e"
             ],
             [
              0.4444444444444444,
              "#bd3786"
             ],
             [
              0.5555555555555556,
              "#d8576b"
             ],
             [
              0.6666666666666666,
              "#ed7953"
             ],
             [
              0.7777777777777778,
              "#fb9f3a"
             ],
             [
              0.8888888888888888,
              "#fdca26"
             ],
             [
              1,
              "#f0f921"
             ]
            ],
            "type": "surface"
           }
          ],
          "table": [
           {
            "cells": {
             "fill": {
              "color": "#EBF0F8"
             },
             "line": {
              "color": "white"
             }
            },
            "header": {
             "fill": {
              "color": "#C8D4E3"
             },
             "line": {
              "color": "white"
             }
            },
            "type": "table"
           }
          ]
         },
         "layout": {
          "annotationdefaults": {
           "arrowcolor": "#2a3f5f",
           "arrowhead": 0,
           "arrowwidth": 1
          },
          "autotypenumbers": "strict",
          "coloraxis": {
           "colorbar": {
            "outlinewidth": 0,
            "ticks": ""
           }
          },
          "colorscale": {
           "diverging": [
            [
             0,
             "#8e0152"
            ],
            [
             0.1,
             "#c51b7d"
            ],
            [
             0.2,
             "#de77ae"
            ],
            [
             0.3,
             "#f1b6da"
            ],
            [
             0.4,
             "#fde0ef"
            ],
            [
             0.5,
             "#f7f7f7"
            ],
            [
             0.6,
             "#e6f5d0"
            ],
            [
             0.7,
             "#b8e186"
            ],
            [
             0.8,
             "#7fbc41"
            ],
            [
             0.9,
             "#4d9221"
            ],
            [
             1,
             "#276419"
            ]
           ],
           "sequential": [
            [
             0,
             "#0d0887"
            ],
            [
             0.1111111111111111,
             "#46039f"
            ],
            [
             0.2222222222222222,
             "#7201a8"
            ],
            [
             0.3333333333333333,
             "#9c179e"
            ],
            [
             0.4444444444444444,
             "#bd3786"
            ],
            [
             0.5555555555555556,
             "#d8576b"
            ],
            [
             0.6666666666666666,
             "#ed7953"
            ],
            [
             0.7777777777777778,
             "#fb9f3a"
            ],
            [
             0.8888888888888888,
             "#fdca26"
            ],
            [
             1,
             "#f0f921"
            ]
           ],
           "sequentialminus": [
            [
             0,
             "#0d0887"
            ],
            [
             0.1111111111111111,
             "#46039f"
            ],
            [
             0.2222222222222222,
             "#7201a8"
            ],
            [
             0.3333333333333333,
             "#9c179e"
            ],
            [
             0.4444444444444444,
             "#bd3786"
            ],
            [
             0.5555555555555556,
             "#d8576b"
            ],
            [
             0.6666666666666666,
             "#ed7953"
            ],
            [
             0.7777777777777778,
             "#fb9f3a"
            ],
            [
             0.8888888888888888,
             "#fdca26"
            ],
            [
             1,
             "#f0f921"
            ]
           ]
          },
          "colorway": [
           "#636efa",
           "#EF553B",
           "#00cc96",
           "#ab63fa",
           "#FFA15A",
           "#19d3f3",
           "#FF6692",
           "#B6E880",
           "#FF97FF",
           "#FECB52"
          ],
          "font": {
           "color": "#2a3f5f"
          },
          "geo": {
           "bgcolor": "white",
           "lakecolor": "white",
           "landcolor": "#E5ECF6",
           "showlakes": true,
           "showland": true,
           "subunitcolor": "white"
          },
          "hoverlabel": {
           "align": "left"
          },
          "hovermode": "closest",
          "mapbox": {
           "style": "light"
          },
          "paper_bgcolor": "white",
          "plot_bgcolor": "#E5ECF6",
          "polar": {
           "angularaxis": {
            "gridcolor": "white",
            "linecolor": "white",
            "ticks": ""
           },
           "bgcolor": "#E5ECF6",
           "radialaxis": {
            "gridcolor": "white",
            "linecolor": "white",
            "ticks": ""
           }
          },
          "scene": {
           "xaxis": {
            "backgroundcolor": "#E5ECF6",
            "gridcolor": "white",
            "gridwidth": 2,
            "linecolor": "white",
            "showbackground": true,
            "ticks": "",
            "zerolinecolor": "white"
           },
           "yaxis": {
            "backgroundcolor": "#E5ECF6",
            "gridcolor": "white",
            "gridwidth": 2,
            "linecolor": "white",
            "showbackground": true,
            "ticks": "",
            "zerolinecolor": "white"
           },
           "zaxis": {
            "backgroundcolor": "#E5ECF6",
            "gridcolor": "white",
            "gridwidth": 2,
            "linecolor": "white",
            "showbackground": true,
            "ticks": "",
            "zerolinecolor": "white"
           }
          },
          "shapedefaults": {
           "line": {
            "color": "#2a3f5f"
           }
          },
          "ternary": {
           "aaxis": {
            "gridcolor": "white",
            "linecolor": "white",
            "ticks": ""
           },
           "baxis": {
            "gridcolor": "white",
            "linecolor": "white",
            "ticks": ""
           },
           "bgcolor": "#E5ECF6",
           "caxis": {
            "gridcolor": "white",
            "linecolor": "white",
            "ticks": ""
           }
          },
          "title": {
           "x": 0.05
          },
          "xaxis": {
           "automargin": true,
           "gridcolor": "white",
           "linecolor": "white",
           "ticks": "",
           "title": {
            "standoff": 15
           },
           "zerolinecolor": "white",
           "zerolinewidth": 2
          },
          "yaxis": {
           "automargin": true,
           "gridcolor": "white",
           "linecolor": "white",
           "ticks": "",
           "title": {
            "standoff": 15
           },
           "zerolinecolor": "white",
           "zerolinewidth": 2
          }
         }
        },
        "title": {
         "text": "angle_right_knee over time (Plotly)"
        },
        "xaxis": {
         "anchor": "y",
         "domain": [
          0,
          1
         ],
         "rangeslider": {
          "visible": true
         },
         "title": {
          "text": "Frame"
         }
        },
        "yaxis": {
         "anchor": "x",
         "domain": [
          0,
          1
         ],
         "title": {
          "text": "angle_right_knee (deg)"
         }
        }
       }
      }
     },
     "metadata": {},
     "output_type": "display_data"
    }
   ],
   "source": [
    "# ======================================================\n",
    "# 8) Plotting the computed angles over time (ALL angles)\n",
    "#    with confidence patches (\"low\" = yellow, \"least\" = orange)\n",
    "#    Choose backend: \"matplotlib\", \"seaborn\", or \"plotly\"\n",
    "# ======================================================\n",
    "\n",
    "# --- User choices ---\n",
    "plot_backend   = \"plotly\"   # \"matplotlib\" | \"seaborn\" | \"plotly\"\n",
    "selected_video = None       # set to a specific video filename to filter, or leave as None\n",
    "\n",
    "# --- Prep & validation ---\n",
    "if \"angles_df\" not in globals():\n",
    "    raise RuntimeError(\"angles_df not found. Run the angle computation cells first.\")\n",
    "\n",
    "angle_cols = [c for c in angles_df.columns if c.startswith(\"angle_\")]\n",
    "if not angle_cols:\n",
    "    raise ValueError(\"No angle columns found (columns starting with 'angle_').\")\n",
    "\n",
    "# helper: find contiguous spans where predicate(series) is True\n",
    "def _spans_from_labels(frame_series, label_series, label_value):\n",
    "    \"\"\"Return a list of (x0, x1) inclusive frame spans where label_series == label_value.\"\"\"\n",
    "    frames = frame_series.to_numpy()\n",
    "    labels = (label_series.to_numpy() == label_value)\n",
    "    spans = []\n",
    "    if frames.size == 0:\n",
    "        return spans\n",
    "    start = None\n",
    "    last_frame = None\n",
    "    for f, ok in zip(frames, labels):\n",
    "        if ok and start is None:\n",
    "            start = f\n",
    "        if ok:\n",
    "            last_frame = f\n",
    "        if (not ok) and (start is not None):\n",
    "            spans.append((start, last_frame))\n",
    "            start = None\n",
    "    if start is not None:\n",
    "        spans.append((start, last_frame))\n",
    "    return spans\n",
    "\n",
    "df_plot = angles_df.copy()\n",
    "if selected_video is not None:\n",
    "    df_plot = df_plot[df_plot[\"video\"] == selected_video]\n",
    "    if df_plot.empty:\n",
    "        raise ValueError(f\"No rows found for video '{selected_video}' in angles_df.\")\n",
    "\n",
    "title_suffix = f\" — {selected_video}\" if selected_video else \"\"\n",
    "backend = plot_backend.strip().lower()\n",
    "\n",
    "if backend == \"matplotlib\":\n",
    "    import matplotlib.pyplot as plt\n",
    "\n",
    "    for col in angle_cols:\n",
    "        conf_col = \"confidence_\" + col.replace(\"angle_\", \"\", 1)\n",
    "        if conf_col not in df_plot.columns:\n",
    "            print(f\"Warning: {conf_col} not found; skipping confidence patches for {col}.\")\n",
    "        plt.figure(figsize=(10, 4))\n",
    "        plt.plot(df_plot[\"frame\"], df_plot[col])\n",
    "        plt.xlabel(\"Frame\")\n",
    "        plt.ylabel(f\"{col} (deg)\")\n",
    "        plt.title(f\"{col} over time (matplotlib){title_suffix}\")\n",
    "        ax = plt.gca()\n",
    "\n",
    "        # Confidence patches\n",
    "        if conf_col in df_plot.columns:\n",
    "            # yellow for 'low'\n",
    "            for x0, x1 in _spans_from_labels(df_plot[\"frame\"], df_plot[conf_col], \"low\"):\n",
    "                ax.axvspan(x0, x1, color=\"yellow\", alpha=0.25, linewidth=0)\n",
    "            # orange for 'least'\n",
    "            for x0, x1 in _spans_from_labels(df_plot[\"frame\"], df_plot[conf_col], \"least\"):\n",
    "                ax.axvspan(x0, x1, color=\"orange\", alpha=0.25, linewidth=0)\n",
    "\n",
    "        plt.tight_layout()\n",
    "        plt.show()\n",
    "\n",
    "elif backend == \"seaborn\":\n",
    "    try:\n",
    "        import seaborn as sns\n",
    "    except Exception as e:\n",
    "        raise ImportError(\"Seaborn is not installed. Please install seaborn or choose another backend.\") from e\n",
    "    import matplotlib.pyplot as plt\n",
    "\n",
    "    for col in angle_cols:\n",
    "        conf_col = \"confidence_\" + col.replace(\"angle_\", \"\", 1)\n",
    "        plt.figure(figsize=(10, 4))\n",
    "        sns.lineplot(data=df_plot, x=\"frame\", y=col)\n",
    "        plt.xlabel(\"Frame\")\n",
    "        plt.ylabel(f\"{col} (deg)\")\n",
    "        plt.title(f\"{col} over time (seaborn){title_suffix}\")\n",
    "        ax = plt.gca()\n",
    "\n",
    "        if conf_col in df_plot.columns:\n",
    "            for x0, x1 in _spans_from_labels(df_plot[\"frame\"], df_plot[conf_col], \"low\"):\n",
    "                ax.axvspan(x0, x1, color=\"yellow\", alpha=0.25, linewidth=0)\n",
    "            for x0, x1 in _spans_from_labels(df_plot[\"frame\"], df_plot[conf_col], \"least\"):\n",
    "                ax.axvspan(x0, x1, color=\"orange\", alpha=0.25, linewidth=0)\n",
    "\n",
    "        plt.tight_layout()\n",
    "        plt.show()\n",
    "\n",
    "elif backend == \"plotly\":\n",
    "    try:\n",
    "        import plotly.express as px\n",
    "        from plotly.graph_objects import Figure\n",
    "    except Exception as e:\n",
    "        raise ImportError(\"Plotly is not installed. Please install plotly or choose another backend.\") from e\n",
    "\n",
    "    for col in angle_cols:\n",
    "        conf_col = \"confidence_\" + col.replace(\"angle_\", \"\", 1)\n",
    "        fig = px.line(\n",
    "            df_plot,\n",
    "            x=\"frame\",\n",
    "            y=col,\n",
    "            title=f\"{col} over time (Plotly){title_suffix}\",\n",
    "            labels={\"frame\": \"Frame\", col: f\"{col} (deg)\"}\n",
    "        )\n",
    "\n",
    "        # Confidence patches as rectangle shapes\n",
    "        if conf_col in df_plot.columns:\n",
    "            # yellow for 'low'\n",
    "            for x0, x1 in _spans_from_labels(df_plot[\"frame\"], df_plot[conf_col], \"low\"):\n",
    "                fig.add_vrect(x0=x0, x1=x1, fillcolor=\"yellow\", opacity=0.25, line_width=0)\n",
    "            # orange for 'least'\n",
    "            for x0, x1 in _spans_from_labels(df_plot[\"frame\"], df_plot[conf_col], \"least\"):\n",
    "                fig.add_vrect(x0=x0, x1=x1, fillcolor=\"orange\", opacity=0.25, line_width=0)\n",
    "\n",
    "        fig.update_layout(\n",
    "            xaxis_rangeslider_visible=True,\n",
    "            hovermode=\"x unified\",\n",
    "            margin=dict(l=40, r=20, t=60, b=40)\n",
    "        )\n",
    "        fig.show()\n",
    "\n",
    "else:\n",
    "    raise ValueError(\"Unknown plot_backend. Choose one of: 'matplotlib', 'seaborn', 'plotly'.\")\n"
   ]
  },
  {
   "cell_type": "markdown",
   "id": "57906901",
   "metadata": {},
   "source": [
    "## Batch Angle Computation for a Folder of `*_pose2d.csv` Files\n",
    "\n",
    "This section processes **all** 2D landmark CSVs in a directory and computes the defined joint angles for each file.\n",
    "\n",
    "**How it works**\n",
    "- You provide a directory path that contains files named like: `*_pose2d.csv`.\n",
    "- For **each** file, we compute angles using your `angle_defs` and `visibility_thresh`.\n",
    "- We save a per-file output next to the input as: `*_pose2d_angles.csv`.\n",
    "- We also write a **batch manifest** CSV in the same directory summarizing the results and any errors.\n",
    "\n",
    "> Tip: you can point this to a directory of filtered outputs as well (e.g., `*_pose2d_filtered.csv`) by adjusting the `pattern`.\n"
   ]
  },
  {
   "cell_type": "code",
   "execution_count": null,
   "id": "78695551",
   "metadata": {},
   "outputs": [
    {
     "name": "stdout",
     "output_type": "stream",
     "text": [
      "Found 2 file(s) in /Users/souvikmandal/Documents/06_Teaching_Mentoring/LS100_comp_etho/2025/LS100_Python_Notebooks/outputs matching '*_pose2d.csv'.\n",
      "[1/2] Kevin_2022_Day5_CRNCH_pose2d.csv\n",
      "   → Saved: Kevin_2022_Day5_CRNCH_pose2d_angles.csv  (1926 rows, 0.14s)\n",
      "[2/2] sprintblockstart_221008_clip017_isaiah_pose2d.csv\n",
      "   → Saved: sprintblockstart_221008_clip017_isaiah_pose2d_angles.csv  (336 rows, 0.02s)\n",
      "\n",
      "✔ Batch complete. Manifest saved to: /Users/souvikmandal/Documents/06_Teaching_Mentoring/LS100_comp_etho/2025/LS100_Python_Notebooks/outputs/batch_angles_manifest.csv\n",
      "Total elapsed: 0.2s\n"
     ]
    }
   ],
   "source": [
    "# ======================================================\n",
    "# 9) Batch run on a directory of *_pose2d.csv files\n",
    "#     - Computes angles for each file using current angle_defs\n",
    "#     - Saves <stem>_angles.csv next to each input\n",
    "#     - Writes a batch manifest in the directory\n",
    "# ======================================================\n",
    "\n",
    "from pathlib import Path\n",
    "import time, traceback\n",
    "\n",
    "# --- Student input: paste the directory containing *_pose2d.csv files\n",
    "pose2d_dir = r\"/Users/souvikmandal/Documents/06_Teaching_Mentoring/LS100_comp_etho/2025/LS100_Python_Notebooks/outputs\"  # e.g., \"/path/to/outputs\"\n",
    "\n",
    "# --- Optional: pattern tweak (default matches exactly *_pose2d.csv)\n",
    "pattern = \"*_pose2d.csv\"   # change to \"*_pose2d_filtered.csv\" if you want filtered inputs\n",
    "\n",
    "# --- Basic checks\n",
    "if not pose2d_dir or not str(pose2d_dir).strip():\n",
    "    raise ValueError(\"Please set pose2d_dir to a valid directory path.\")\n",
    "pose2d_dir = Path(pose2d_dir).expanduser().resolve()\n",
    "if not pose2d_dir.exists() or not pose2d_dir.is_dir():\n",
    "    raise NotADirectoryError(f\"Not a directory: {pose2d_dir}\")\n",
    "\n",
    "# --- Verify dependencies from prior cells\n",
    "required_globals = [\"angle_defs\", \"compute_angles\", \"visibility_thresh\"]\n",
    "missing = [g for g in required_globals if g not in globals()]\n",
    "if missing:\n",
    "    raise RuntimeError(f\"Missing prior definitions: {missing}. \"\n",
    "                       \"Run the earlier cells (angle defs & compute_angles function).\")\n",
    "\n",
    "# --- Discover files\n",
    "files = sorted(pose2d_dir.glob(pattern))\n",
    "if not files:\n",
    "    raise FileNotFoundError(f\"No files matching pattern '{pattern}' in {pose2d_dir}\")\n",
    "\n",
    "print(f\"Found {len(files)} file(s) in {pose2d_dir} matching '{pattern}'.\")\n",
    "\n",
    "# --- Process each file\n",
    "records = []\n",
    "t_batch0 = time.time()\n",
    "\n",
    "for i, fpath in enumerate(files, 1):\n",
    "    row = {\n",
    "        \"input_csv\": str(fpath),\n",
    "        \"output_csv\": None,\n",
    "        \"status\": \"ok\",\n",
    "        \"error\": \"\",\n",
    "        \"n_rows_in\": None,\n",
    "        \"n_rows_out\": None,\n",
    "        \"elapsed_s\": None,\n",
    "    }\n",
    "    print(f\"[{i}/{len(files)}] {fpath.name}\")\n",
    "    try:\n",
    "        t0 = time.time()\n",
    "        df_in = pd.read_csv(fpath)\n",
    "        row[\"n_rows_in\"] = len(df_in)\n",
    "\n",
    "        # Compute angles using the same logic/thresholds as single-file mode\n",
    "        angles_df = compute_angles(df_in, angle_defs, visibility_thresh=visibility_thresh)\n",
    "\n",
    "        out_csv = fpath.with_name(f\"{fpath.stem}_angles.csv\")\n",
    "        angles_df.to_csv(out_csv, index=False)\n",
    "        row[\"output_csv\"] = str(out_csv)\n",
    "        row[\"n_rows_out\"] = len(angles_df)\n",
    "        row[\"elapsed_s\"] = round(time.time() - t0, 2)\n",
    "        print(f\"   → Saved: {out_csv.name}  ({row['n_rows_out']} rows, {row['elapsed_s']}s)\")\n",
    "    except Exception as e:\n",
    "        row[\"status\"] = \"error\"\n",
    "        row[\"error\"] = f\"{e.__class__.__name__}: {e}\"\n",
    "        # Optional: keep a short traceback in logs for debugging\n",
    "        tb = traceback.format_exc().splitlines()[-3:]\n",
    "        print(\"   ! Error:\", row[\"error\"])\n",
    "        print(\"   ! Traceback (last lines):\", \"; \".join(tb))\n",
    "\n",
    "    records.append(row)\n",
    "\n",
    "# --- Write batch manifest\n",
    "manifest = pose2d_dir / \"batch_angles_manifest.csv\"\n",
    "pd.DataFrame.from_records(records).to_csv(manifest, index=False)\n",
    "print(f\"\\n✔ Batch complete. Manifest saved to: {manifest}\")\n",
    "print(f\"Total elapsed: {time.time() - t_batch0:.1f}s\")\n"
   ]
  },
  {
   "cell_type": "markdown",
   "id": "5781cc0d",
   "metadata": {},
   "source": [
    "## Conclusion\n",
    "\n",
    "Congratulations! You’ve now completed a full **pose analysis workflow** in Python:\n",
    "\n",
    "1. Extracted **2D body landmark data** from videos using MediaPipe (Notebook 1).  \n",
    "2. Computed **joint angles** and derived **confidence metrics** based on landmark visibility.  \n",
    "3. Visualized these angles interactively and in batches across multiple recordings.\n",
    "\n",
    "### What You’ve Learned\n",
    "- How pose landmarks are represented as normalized 2D coordinates.  \n",
    "- How to calculate geometric angles (∠ABC) for any combination of body joints.  \n",
    "- How to assess **data reliability** using a visibility-based confidence system (`good`, `low`, `least`).  \n",
    "- How to produce meaningful visualizations and batch-process datasets efficiently.\n",
    "\n",
    "### Next Steps\n",
    "In the next notebook, we will:\n",
    "- Derive **custom biomechanical indices** (e.g., symmetry or smoothness metrics).  \n",
    "- Explore **statistical summaries** and comparisons across individuals or sessions.\n",
    "\n",
    "> **Remember:** Confidence flags and visualization overlays are not just for aesthetics—  \n",
    "> they teach you to interpret pose-estimation data critically, separating **signal** from **noise**.\n"
   ]
  }
 ],
 "metadata": {
  "kernelspec": {
   "display_name": "MediaPipeEnv",
   "language": "python",
   "name": "python3"
  },
  "language_info": {
   "codemirror_mode": {
    "name": "ipython",
    "version": 3
   },
   "file_extension": ".py",
   "mimetype": "text/x-python",
   "name": "python",
   "nbconvert_exporter": "python",
   "pygments_lexer": "ipython3",
   "version": "3.12.12"
  }
 },
 "nbformat": 4,
 "nbformat_minor": 5
}
